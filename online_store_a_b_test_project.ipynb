{
 "cells": [
  {
   "cell_type": "markdown",
   "metadata": {},
   "source": [
    "# Проект: анализ интернет-магазина. А/В-тест"
   ]
  },
  {
   "cell_type": "markdown",
   "metadata": {},
   "source": [
    "**Описание данных**\n",
    "\n",
    "**Данные для первой части**\n",
    "\n",
    "***Файл /datasets/hypothesis.csv*** \n",
    "\n",
    "*Hypothesis* — краткое описание гипотезы;\n",
    "\n",
    "*Reach* — охват пользователей по 10-балльной шкале;\n",
    "\n",
    "*Impact* — влияние на пользователей по 10-балльной шкале;\n",
    "\n",
    "*Confidence* — уверенность в гипотезе по 10-балльной шкале;\n",
    "\n",
    "*Efforts* — затраты ресурсов на проверку гипотезы по 10-балльной шкале. Чем больше значение Efforts, тем дороже проверка гипотезы.\n",
    "\n",
    "**Данные для второй части**\n",
    "\n",
    "***Файл /datasets/orders.csv***\n",
    "\n",
    "*transactionId* — идентификатор заказа;\n",
    "\n",
    "*visitorId* — идентификатор пользователя, совершившего заказ;\n",
    "\n",
    "*date* — дата, когда был совершён заказ;\n",
    "\n",
    "*revenue* — выручка заказа;\n",
    "\n",
    "*group* — группа A/B-теста, в которую попал заказ.\n",
    "\n",
    "***Файл /datasets/visitors.csv***\n",
    "\n",
    "*date* — дата;\n",
    "\n",
    "*group* — группа A/B-теста;\n",
    "\n",
    "*visitors* — количество пользователей в указанную дату в указанной группе A/B-теста\n",
    "\n",
    "**Описание проекта**\n",
    "\n",
    "***Контекст***\n",
    "\n",
    "Вы — аналитик крупного интернет-магазина. Вместе с отделом маркетинга вы подготовили список гипотез для увеличения выручки.\n",
    "Приоритизируйте гипотезы, запустите A/B-тест и проанализируйте результаты. \n",
    "\n",
    "***Часть 1. Приоритизация гипотез.***\n",
    "\n",
    "В файле /datasets/hypothesis.csv 9 гипотез по увеличению выручки интернет-магазина с указанными параметрами Reach, Impact, Confidence, Effort.\n",
    "\n",
    "***Задача***\n",
    "\n",
    "-Примените фреймворк ICE для приоритизации гипотез. Отсортируйте их по убыванию приоритета.\n",
    "\n",
    "-Примените фреймворк RICE для приоритизации гипотез. Отсортируйте их по убыванию приоритета.\n",
    "\n",
    "-Укажите, как изменилась приоритизация гипотез при применении RICE вместо ICE. Объясните, почему так произошло.\n",
    "\n",
    "***Часть 2. Анализ A/B-теста***\n",
    "\n",
    "Вы провели A/B-тест и получили результаты, которые описаны в файлах /datasets/orders.csv и /datasets/visitors.csv.\n",
    "\n",
    "***Задача***\n",
    "\n",
    "Проанализируйте A/B-тест:\n",
    "\n",
    "-Постройте график кумулятивной выручки по группам. Сделайте выводы и предположения.\n",
    "\n",
    "-Постройте график кумулятивного среднего чека по группам. Сделайте выводы и предположения.\n",
    "\n",
    "-Постройте график относительного изменения кумулятивного среднего чека группы B к группе A. Сделайте выводы и предположения.\n",
    "\n",
    "-Постройте график кумулятивного среднего количества заказов на посетителя по группам. Сделайте выводы и предположения.\n",
    "\n",
    "-Постройте график относительного изменения кумулятивного среднего количества заказов на посетителя группы B к группе A. Сделайте выводы и предположения.\n",
    "\n",
    "-Постройте точечный график количества заказов по пользователям. Сделайте выводы и предположения.\n",
    "\n",
    "-Посчитайте 95-й и 99-й перцентили количества заказов на пользователя. Выберите границу для определения аномальных пользователей.\n",
    "\n",
    "-Постройте точечный график стоимостей заказов. Сделайте выводы и предположения.\n",
    "\n",
    "-Посчитайте 95-й и 99-й перцентили стоимости заказов. Выберите границу для определения аномальных заказов.\n",
    "\n",
    "-Посчитайте статистическую значимость различий в среднем количестве заказов на посетителя между группами по «сырым» данным. Сделайте выводы и предположения.\n",
    "\n",
    "-Посчитайте статистическую значимость различий в среднем чеке заказа между группами по «сырым» данным. Сделайте выводы и предположения.\n",
    "\n",
    "-Посчитайте статистическую значимость различий в среднем количестве заказов на посетителя между группами по «очищенным» данным. Сделайте выводы и предположения.\n",
    "\n",
    "-Посчитайте статистическую значимость различий в среднем чеке заказа между группами по «очищенным» данным. Сделайте выводы и предположения.\n",
    "\n",
    "-Примите решение по результатам теста и объясните его. Варианты решений:\n",
    "1.Остановить тест, зафиксировать победу одной из групп.\n",
    "2.Остановить тест, зафиксировать отсутствие различий между группами.\n",
    "3.Продолжить тест."
   ]
  },
  {
   "cell_type": "markdown",
   "metadata": {},
   "source": [
    "### Загрузка данных и подготовка к анализу"
   ]
  },
  {
   "cell_type": "code",
   "execution_count": 1,
   "metadata": {},
   "outputs": [],
   "source": [
    "# Импортируем библиотеки\n",
    "import pandas as pd\n",
    "import numpy as np\n",
    "import seaborn as sns\n",
    "from datetime import date, datetime, timedelta\n",
    "import matplotlib.pyplot as plt\n",
    "from scipy import stats as st\n"
   ]
  },
  {
   "cell_type": "code",
   "execution_count": 2,
   "metadata": {},
   "outputs": [],
   "source": [
    "# Открываем файлы и сохраняем их в переменных\n",
    "hypothesis = pd.read_csv('/datasets/hypothesis.csv')\n",
    "orders = pd.read_csv('/datasets/orders.csv')\n",
    "visitors = pd.read_csv('/datasets/visitors.csv')"
   ]
  },
  {
   "cell_type": "markdown",
   "metadata": {},
   "source": [
    "#### Таблица hypothesis"
   ]
  },
  {
   "cell_type": "code",
   "execution_count": 3,
   "metadata": {},
   "outputs": [
    {
     "data": {
      "text/html": [
       "<div>\n",
       "<style scoped>\n",
       "    .dataframe tbody tr th:only-of-type {\n",
       "        vertical-align: middle;\n",
       "    }\n",
       "\n",
       "    .dataframe tbody tr th {\n",
       "        vertical-align: top;\n",
       "    }\n",
       "\n",
       "    .dataframe thead th {\n",
       "        text-align: right;\n",
       "    }\n",
       "</style>\n",
       "<table border=\"1\" class=\"dataframe\">\n",
       "  <thead>\n",
       "    <tr style=\"text-align: right;\">\n",
       "      <th></th>\n",
       "      <th>Hypothesis</th>\n",
       "      <th>Reach</th>\n",
       "      <th>Impact</th>\n",
       "      <th>Confidence</th>\n",
       "      <th>Efforts</th>\n",
       "    </tr>\n",
       "  </thead>\n",
       "  <tbody>\n",
       "    <tr>\n",
       "      <th>0</th>\n",
       "      <td>Добавить два новых канала привлечения трафика, что позволит привлекать на 30% больше пользователей</td>\n",
       "      <td>3</td>\n",
       "      <td>10</td>\n",
       "      <td>8</td>\n",
       "      <td>6</td>\n",
       "    </tr>\n",
       "    <tr>\n",
       "      <th>1</th>\n",
       "      <td>Запустить собственную службу доставки, что сократит срок доставки заказов</td>\n",
       "      <td>2</td>\n",
       "      <td>5</td>\n",
       "      <td>4</td>\n",
       "      <td>10</td>\n",
       "    </tr>\n",
       "    <tr>\n",
       "      <th>2</th>\n",
       "      <td>Добавить блоки рекомендаций товаров на сайт интернет магазина, чтобы повысить конверсию и средний чек заказа</td>\n",
       "      <td>8</td>\n",
       "      <td>3</td>\n",
       "      <td>7</td>\n",
       "      <td>3</td>\n",
       "    </tr>\n",
       "    <tr>\n",
       "      <th>3</th>\n",
       "      <td>Изменить структура категорий, что увеличит конверсию, т.к. пользователи быстрее найдут нужный товар</td>\n",
       "      <td>8</td>\n",
       "      <td>3</td>\n",
       "      <td>3</td>\n",
       "      <td>8</td>\n",
       "    </tr>\n",
       "    <tr>\n",
       "      <th>4</th>\n",
       "      <td>Изменить цвет фона главной страницы, чтобы увеличить вовлеченность пользователей</td>\n",
       "      <td>3</td>\n",
       "      <td>1</td>\n",
       "      <td>1</td>\n",
       "      <td>1</td>\n",
       "    </tr>\n",
       "    <tr>\n",
       "      <th>5</th>\n",
       "      <td>Добавить страницу отзывов клиентов о магазине, что позволит увеличить количество заказов</td>\n",
       "      <td>3</td>\n",
       "      <td>2</td>\n",
       "      <td>2</td>\n",
       "      <td>3</td>\n",
       "    </tr>\n",
       "    <tr>\n",
       "      <th>6</th>\n",
       "      <td>Показать на главной странице баннеры с актуальными акциями и распродажами, чтобы увеличить конверсию</td>\n",
       "      <td>5</td>\n",
       "      <td>3</td>\n",
       "      <td>8</td>\n",
       "      <td>3</td>\n",
       "    </tr>\n",
       "    <tr>\n",
       "      <th>7</th>\n",
       "      <td>Добавить форму подписки на все основные страницы, чтобы собрать базу клиентов для email-рассылок</td>\n",
       "      <td>10</td>\n",
       "      <td>7</td>\n",
       "      <td>8</td>\n",
       "      <td>5</td>\n",
       "    </tr>\n",
       "    <tr>\n",
       "      <th>8</th>\n",
       "      <td>Запустить акцию, дающую скидку на товар в день рождения</td>\n",
       "      <td>1</td>\n",
       "      <td>9</td>\n",
       "      <td>9</td>\n",
       "      <td>5</td>\n",
       "    </tr>\n",
       "  </tbody>\n",
       "</table>\n",
       "</div>"
      ],
      "text/plain": [
       "                                                                                                     Hypothesis  \\\n",
       "0            Добавить два новых канала привлечения трафика, что позволит привлекать на 30% больше пользователей   \n",
       "1                                     Запустить собственную службу доставки, что сократит срок доставки заказов   \n",
       "2  Добавить блоки рекомендаций товаров на сайт интернет магазина, чтобы повысить конверсию и средний чек заказа   \n",
       "3           Изменить структура категорий, что увеличит конверсию, т.к. пользователи быстрее найдут нужный товар   \n",
       "4                              Изменить цвет фона главной страницы, чтобы увеличить вовлеченность пользователей   \n",
       "5                      Добавить страницу отзывов клиентов о магазине, что позволит увеличить количество заказов   \n",
       "6          Показать на главной странице баннеры с актуальными акциями и распродажами, чтобы увеличить конверсию   \n",
       "7              Добавить форму подписки на все основные страницы, чтобы собрать базу клиентов для email-рассылок   \n",
       "8                                                       Запустить акцию, дающую скидку на товар в день рождения   \n",
       "\n",
       "   Reach  Impact  Confidence  Efforts  \n",
       "0      3      10           8        6  \n",
       "1      2       5           4       10  \n",
       "2      8       3           7        3  \n",
       "3      8       3           3        8  \n",
       "4      3       1           1        1  \n",
       "5      3       2           2        3  \n",
       "6      5       3           8        3  \n",
       "7     10       7           8        5  \n",
       "8      1       9           9        5  "
      ]
     },
     "execution_count": 3,
     "metadata": {},
     "output_type": "execute_result"
    }
   ],
   "source": [
    "# Увеличим ширину столбца\n",
    "pd.set_option('max_colwidth', 120)\n",
    "# Выводим на экран таблицу hypothesis\n",
    "hypothesis"
   ]
  },
  {
   "cell_type": "code",
   "execution_count": 4,
   "metadata": {},
   "outputs": [
    {
     "name": "stdout",
     "output_type": "stream",
     "text": [
      "<class 'pandas.core.frame.DataFrame'>\n",
      "RangeIndex: 9 entries, 0 to 8\n",
      "Data columns (total 5 columns):\n",
      " #   Column      Non-Null Count  Dtype \n",
      "---  ------      --------------  ----- \n",
      " 0   Hypothesis  9 non-null      object\n",
      " 1   Reach       9 non-null      int64 \n",
      " 2   Impact      9 non-null      int64 \n",
      " 3   Confidence  9 non-null      int64 \n",
      " 4   Efforts     9 non-null      int64 \n",
      "dtypes: int64(4), object(1)\n",
      "memory usage: 488.0+ bytes\n"
     ]
    }
   ],
   "source": [
    "# Посмотрим общую информацию о таблице hypothesis\n",
    "hypothesis.info()"
   ]
  },
  {
   "cell_type": "markdown",
   "metadata": {},
   "source": [
    "***На основе полученных данных можно отметить, что:***\n",
    "\n",
    "В целом, с данными в таблице hypothesis все в порядке. Можно для удобства привести названия столбцов к нижнему регистру."
   ]
  },
  {
   "cell_type": "code",
   "execution_count": 5,
   "metadata": {},
   "outputs": [
    {
     "data": {
      "text/plain": [
       "Index(['hypothesis', 'reach', 'impact', 'confidence', 'efforts'], dtype='object')"
      ]
     },
     "execution_count": 5,
     "metadata": {},
     "output_type": "execute_result"
    }
   ],
   "source": [
    "# Приведем названия столбцов в таблице hypothesis к нижнему регистру\n",
    "hypothesis.columns = hypothesis.columns.str.lower()\n",
    "hypothesis.columns"
   ]
  },
  {
   "cell_type": "markdown",
   "metadata": {},
   "source": [
    "#### Таблица orders"
   ]
  },
  {
   "cell_type": "code",
   "execution_count": 6,
   "metadata": {},
   "outputs": [
    {
     "data": {
      "text/html": [
       "<div>\n",
       "<style scoped>\n",
       "    .dataframe tbody tr th:only-of-type {\n",
       "        vertical-align: middle;\n",
       "    }\n",
       "\n",
       "    .dataframe tbody tr th {\n",
       "        vertical-align: top;\n",
       "    }\n",
       "\n",
       "    .dataframe thead th {\n",
       "        text-align: right;\n",
       "    }\n",
       "</style>\n",
       "<table border=\"1\" class=\"dataframe\">\n",
       "  <thead>\n",
       "    <tr style=\"text-align: right;\">\n",
       "      <th></th>\n",
       "      <th>transactionId</th>\n",
       "      <th>visitorId</th>\n",
       "      <th>date</th>\n",
       "      <th>revenue</th>\n",
       "      <th>group</th>\n",
       "    </tr>\n",
       "  </thead>\n",
       "  <tbody>\n",
       "    <tr>\n",
       "      <th>0</th>\n",
       "      <td>3667963787</td>\n",
       "      <td>3312258926</td>\n",
       "      <td>2019-08-15</td>\n",
       "      <td>1650</td>\n",
       "      <td>B</td>\n",
       "    </tr>\n",
       "    <tr>\n",
       "      <th>1</th>\n",
       "      <td>2804400009</td>\n",
       "      <td>3642806036</td>\n",
       "      <td>2019-08-15</td>\n",
       "      <td>730</td>\n",
       "      <td>B</td>\n",
       "    </tr>\n",
       "    <tr>\n",
       "      <th>2</th>\n",
       "      <td>2961555356</td>\n",
       "      <td>4069496402</td>\n",
       "      <td>2019-08-15</td>\n",
       "      <td>400</td>\n",
       "      <td>A</td>\n",
       "    </tr>\n",
       "    <tr>\n",
       "      <th>3</th>\n",
       "      <td>3797467345</td>\n",
       "      <td>1196621759</td>\n",
       "      <td>2019-08-15</td>\n",
       "      <td>9759</td>\n",
       "      <td>B</td>\n",
       "    </tr>\n",
       "    <tr>\n",
       "      <th>4</th>\n",
       "      <td>2282983706</td>\n",
       "      <td>2322279887</td>\n",
       "      <td>2019-08-15</td>\n",
       "      <td>2308</td>\n",
       "      <td>B</td>\n",
       "    </tr>\n",
       "    <tr>\n",
       "      <th>...</th>\n",
       "      <td>...</td>\n",
       "      <td>...</td>\n",
       "      <td>...</td>\n",
       "      <td>...</td>\n",
       "      <td>...</td>\n",
       "    </tr>\n",
       "    <tr>\n",
       "      <th>1192</th>\n",
       "      <td>2662137336</td>\n",
       "      <td>3733762160</td>\n",
       "      <td>2019-08-14</td>\n",
       "      <td>6490</td>\n",
       "      <td>B</td>\n",
       "    </tr>\n",
       "    <tr>\n",
       "      <th>1193</th>\n",
       "      <td>2203539145</td>\n",
       "      <td>370388673</td>\n",
       "      <td>2019-08-14</td>\n",
       "      <td>3190</td>\n",
       "      <td>A</td>\n",
       "    </tr>\n",
       "    <tr>\n",
       "      <th>1194</th>\n",
       "      <td>1807773912</td>\n",
       "      <td>573423106</td>\n",
       "      <td>2019-08-14</td>\n",
       "      <td>10550</td>\n",
       "      <td>A</td>\n",
       "    </tr>\n",
       "    <tr>\n",
       "      <th>1195</th>\n",
       "      <td>1947021204</td>\n",
       "      <td>1614305549</td>\n",
       "      <td>2019-08-14</td>\n",
       "      <td>100</td>\n",
       "      <td>A</td>\n",
       "    </tr>\n",
       "    <tr>\n",
       "      <th>1196</th>\n",
       "      <td>3936777065</td>\n",
       "      <td>2108080724</td>\n",
       "      <td>2019-08-15</td>\n",
       "      <td>202740</td>\n",
       "      <td>B</td>\n",
       "    </tr>\n",
       "  </tbody>\n",
       "</table>\n",
       "<p>1197 rows × 5 columns</p>\n",
       "</div>"
      ],
      "text/plain": [
       "      transactionId   visitorId        date  revenue group\n",
       "0        3667963787  3312258926  2019-08-15     1650     B\n",
       "1        2804400009  3642806036  2019-08-15      730     B\n",
       "2        2961555356  4069496402  2019-08-15      400     A\n",
       "3        3797467345  1196621759  2019-08-15     9759     B\n",
       "4        2282983706  2322279887  2019-08-15     2308     B\n",
       "...             ...         ...         ...      ...   ...\n",
       "1192     2662137336  3733762160  2019-08-14     6490     B\n",
       "1193     2203539145   370388673  2019-08-14     3190     A\n",
       "1194     1807773912   573423106  2019-08-14    10550     A\n",
       "1195     1947021204  1614305549  2019-08-14      100     A\n",
       "1196     3936777065  2108080724  2019-08-15   202740     B\n",
       "\n",
       "[1197 rows x 5 columns]"
      ]
     },
     "execution_count": 6,
     "metadata": {},
     "output_type": "execute_result"
    }
   ],
   "source": [
    "# Выводим на экран таблицу orders\n",
    "orders"
   ]
  },
  {
   "cell_type": "code",
   "execution_count": 7,
   "metadata": {},
   "outputs": [
    {
     "name": "stdout",
     "output_type": "stream",
     "text": [
      "<class 'pandas.core.frame.DataFrame'>\n",
      "RangeIndex: 1197 entries, 0 to 1196\n",
      "Data columns (total 5 columns):\n",
      " #   Column         Non-Null Count  Dtype \n",
      "---  ------         --------------  ----- \n",
      " 0   transactionId  1197 non-null   int64 \n",
      " 1   visitorId      1197 non-null   int64 \n",
      " 2   date           1197 non-null   object\n",
      " 3   revenue        1197 non-null   int64 \n",
      " 4   group          1197 non-null   object\n",
      "dtypes: int64(3), object(2)\n",
      "memory usage: 46.9+ KB\n"
     ]
    }
   ],
   "source": [
    "# Посмотрим общую информацию о таблице orders\n",
    "orders.info()"
   ]
  },
  {
   "cell_type": "code",
   "execution_count": 8,
   "metadata": {},
   "outputs": [
    {
     "data": {
      "text/plain": [
       "0"
      ]
     },
     "execution_count": 8,
     "metadata": {},
     "output_type": "execute_result"
    }
   ],
   "source": [
    "# Проверим таблицу orders на количество дубликатов\n",
    "orders.duplicated().sum()"
   ]
  },
  {
   "cell_type": "markdown",
   "metadata": {},
   "source": [
    "***На основе полученных данных можно отметить, что:***\n",
    "\n",
    "В таблице orders стоит привести названия к змеиному_регистру.\n",
    "\n",
    "В колонке date должен быть тип данных datetime.\n",
    "\n"
   ]
  },
  {
   "cell_type": "code",
   "execution_count": 9,
   "metadata": {},
   "outputs": [
    {
     "data": {
      "text/plain": [
       "Index(['transaction_id', 'visitor_id', 'date', 'revenue', 'group'], dtype='object')"
      ]
     },
     "execution_count": 9,
     "metadata": {},
     "output_type": "execute_result"
    }
   ],
   "source": [
    "# Приведем названия столбцов в таблице orders к единому стилю\n",
    "orders = orders.rename(columns={'transactionId': 'transaction_id',\n",
    "                                'visitorId': 'visitor_id'})\n",
    "orders.columns"
   ]
  },
  {
   "cell_type": "code",
   "execution_count": 10,
   "metadata": {},
   "outputs": [
    {
     "name": "stdout",
     "output_type": "stream",
     "text": [
      "<class 'pandas.core.frame.DataFrame'>\n",
      "RangeIndex: 1197 entries, 0 to 1196\n",
      "Data columns (total 5 columns):\n",
      " #   Column          Non-Null Count  Dtype         \n",
      "---  ------          --------------  -----         \n",
      " 0   transaction_id  1197 non-null   int64         \n",
      " 1   visitor_id      1197 non-null   int64         \n",
      " 2   date            1197 non-null   datetime64[ns]\n",
      " 3   revenue         1197 non-null   int64         \n",
      " 4   group           1197 non-null   object        \n",
      "dtypes: datetime64[ns](1), int64(3), object(1)\n",
      "memory usage: 46.9+ KB\n"
     ]
    }
   ],
   "source": [
    "# Изменим тип данных в таблице orders в столбце date\n",
    "orders['date'] = pd.to_datetime(orders['date'])\n",
    "# Выполним проверку\n",
    "orders.info()"
   ]
  },
  {
   "cell_type": "markdown",
   "metadata": {},
   "source": [
    "#### Таблица visitors"
   ]
  },
  {
   "cell_type": "code",
   "execution_count": 11,
   "metadata": {},
   "outputs": [
    {
     "data": {
      "text/html": [
       "<div>\n",
       "<style scoped>\n",
       "    .dataframe tbody tr th:only-of-type {\n",
       "        vertical-align: middle;\n",
       "    }\n",
       "\n",
       "    .dataframe tbody tr th {\n",
       "        vertical-align: top;\n",
       "    }\n",
       "\n",
       "    .dataframe thead th {\n",
       "        text-align: right;\n",
       "    }\n",
       "</style>\n",
       "<table border=\"1\" class=\"dataframe\">\n",
       "  <thead>\n",
       "    <tr style=\"text-align: right;\">\n",
       "      <th></th>\n",
       "      <th>date</th>\n",
       "      <th>group</th>\n",
       "      <th>visitors</th>\n",
       "    </tr>\n",
       "  </thead>\n",
       "  <tbody>\n",
       "    <tr>\n",
       "      <th>0</th>\n",
       "      <td>2019-08-01</td>\n",
       "      <td>A</td>\n",
       "      <td>719</td>\n",
       "    </tr>\n",
       "    <tr>\n",
       "      <th>1</th>\n",
       "      <td>2019-08-02</td>\n",
       "      <td>A</td>\n",
       "      <td>619</td>\n",
       "    </tr>\n",
       "    <tr>\n",
       "      <th>2</th>\n",
       "      <td>2019-08-03</td>\n",
       "      <td>A</td>\n",
       "      <td>507</td>\n",
       "    </tr>\n",
       "    <tr>\n",
       "      <th>3</th>\n",
       "      <td>2019-08-04</td>\n",
       "      <td>A</td>\n",
       "      <td>717</td>\n",
       "    </tr>\n",
       "    <tr>\n",
       "      <th>4</th>\n",
       "      <td>2019-08-05</td>\n",
       "      <td>A</td>\n",
       "      <td>756</td>\n",
       "    </tr>\n",
       "    <tr>\n",
       "      <th>...</th>\n",
       "      <td>...</td>\n",
       "      <td>...</td>\n",
       "      <td>...</td>\n",
       "    </tr>\n",
       "    <tr>\n",
       "      <th>57</th>\n",
       "      <td>2019-08-27</td>\n",
       "      <td>B</td>\n",
       "      <td>720</td>\n",
       "    </tr>\n",
       "    <tr>\n",
       "      <th>58</th>\n",
       "      <td>2019-08-28</td>\n",
       "      <td>B</td>\n",
       "      <td>654</td>\n",
       "    </tr>\n",
       "    <tr>\n",
       "      <th>59</th>\n",
       "      <td>2019-08-29</td>\n",
       "      <td>B</td>\n",
       "      <td>531</td>\n",
       "    </tr>\n",
       "    <tr>\n",
       "      <th>60</th>\n",
       "      <td>2019-08-30</td>\n",
       "      <td>B</td>\n",
       "      <td>490</td>\n",
       "    </tr>\n",
       "    <tr>\n",
       "      <th>61</th>\n",
       "      <td>2019-08-31</td>\n",
       "      <td>B</td>\n",
       "      <td>718</td>\n",
       "    </tr>\n",
       "  </tbody>\n",
       "</table>\n",
       "<p>62 rows × 3 columns</p>\n",
       "</div>"
      ],
      "text/plain": [
       "          date group  visitors\n",
       "0   2019-08-01     A       719\n",
       "1   2019-08-02     A       619\n",
       "2   2019-08-03     A       507\n",
       "3   2019-08-04     A       717\n",
       "4   2019-08-05     A       756\n",
       "..         ...   ...       ...\n",
       "57  2019-08-27     B       720\n",
       "58  2019-08-28     B       654\n",
       "59  2019-08-29     B       531\n",
       "60  2019-08-30     B       490\n",
       "61  2019-08-31     B       718\n",
       "\n",
       "[62 rows x 3 columns]"
      ]
     },
     "execution_count": 11,
     "metadata": {},
     "output_type": "execute_result"
    }
   ],
   "source": [
    "# Выводим на экран таблицу visitors\n",
    "visitors"
   ]
  },
  {
   "cell_type": "code",
   "execution_count": 12,
   "metadata": {},
   "outputs": [
    {
     "name": "stdout",
     "output_type": "stream",
     "text": [
      "<class 'pandas.core.frame.DataFrame'>\n",
      "RangeIndex: 62 entries, 0 to 61\n",
      "Data columns (total 3 columns):\n",
      " #   Column    Non-Null Count  Dtype \n",
      "---  ------    --------------  ----- \n",
      " 0   date      62 non-null     object\n",
      " 1   group     62 non-null     object\n",
      " 2   visitors  62 non-null     int64 \n",
      "dtypes: int64(1), object(2)\n",
      "memory usage: 1.6+ KB\n"
     ]
    }
   ],
   "source": [
    "# Посмотрим общую информацию о таблице visitors\n",
    "visitors.info()"
   ]
  },
  {
   "cell_type": "code",
   "execution_count": 13,
   "metadata": {},
   "outputs": [
    {
     "data": {
      "text/plain": [
       "0"
      ]
     },
     "execution_count": 13,
     "metadata": {},
     "output_type": "execute_result"
    }
   ],
   "source": [
    "# Проверим таблицу visitors на количество дубликатов\n",
    "visitors.duplicated().sum()"
   ]
  },
  {
   "cell_type": "markdown",
   "metadata": {},
   "source": [
    "***На основе полученных данных можно отметить, что:***\n",
    "\n",
    "В колонке date должен быть тип данных datetime."
   ]
  },
  {
   "cell_type": "code",
   "execution_count": 14,
   "metadata": {},
   "outputs": [
    {
     "name": "stdout",
     "output_type": "stream",
     "text": [
      "<class 'pandas.core.frame.DataFrame'>\n",
      "RangeIndex: 62 entries, 0 to 61\n",
      "Data columns (total 3 columns):\n",
      " #   Column    Non-Null Count  Dtype         \n",
      "---  ------    --------------  -----         \n",
      " 0   date      62 non-null     datetime64[ns]\n",
      " 1   group     62 non-null     object        \n",
      " 2   visitors  62 non-null     int64         \n",
      "dtypes: datetime64[ns](1), int64(1), object(1)\n",
      "memory usage: 1.6+ KB\n"
     ]
    }
   ],
   "source": [
    "# Изменим тип данных в таблице visitors в столбце date\n",
    "visitors['date'] = pd.to_datetime(visitors['date'])\n",
    "# Выполним проверку\n",
    "visitors.info()"
   ]
  },
  {
   "cell_type": "markdown",
   "metadata": {},
   "source": [
    "#### Вывод"
   ]
  },
  {
   "cell_type": "markdown",
   "metadata": {},
   "source": [
    "После предобработки данных в таблицах hypothesis, orders и visitors все названия столбцов приведены к единому стилю, а типы данных преобразованы в правильные. Дубликаты в таблице отсутсвуют. Данные готовы к анализу.\n"
   ]
  },
  {
   "cell_type": "markdown",
   "metadata": {},
   "source": [
    "### Часть 1. Приоритизация гипотез"
   ]
  },
  {
   "cell_type": "markdown",
   "metadata": {},
   "source": [
    "#### Применение фреймворка ICE для приоритизации гипотез. "
   ]
  },
  {
   "cell_type": "code",
   "execution_count": 15,
   "metadata": {},
   "outputs": [],
   "source": [
    "# Добавим столбец ICE для приоритизации гипотез\n",
    "hypothesis['ICE'] = ((hypothesis['impact'] * hypothesis['confidence']) / hypothesis['efforts']).round(1)"
   ]
  },
  {
   "cell_type": "code",
   "execution_count": 16,
   "metadata": {},
   "outputs": [
    {
     "data": {
      "text/html": [
       "<div>\n",
       "<style scoped>\n",
       "    .dataframe tbody tr th:only-of-type {\n",
       "        vertical-align: middle;\n",
       "    }\n",
       "\n",
       "    .dataframe tbody tr th {\n",
       "        vertical-align: top;\n",
       "    }\n",
       "\n",
       "    .dataframe thead th {\n",
       "        text-align: right;\n",
       "    }\n",
       "</style>\n",
       "<table border=\"1\" class=\"dataframe\">\n",
       "  <thead>\n",
       "    <tr style=\"text-align: right;\">\n",
       "      <th></th>\n",
       "      <th>hypothesis</th>\n",
       "      <th>ICE</th>\n",
       "    </tr>\n",
       "  </thead>\n",
       "  <tbody>\n",
       "    <tr>\n",
       "      <th>8</th>\n",
       "      <td>Запустить акцию, дающую скидку на товар в день рождения</td>\n",
       "      <td>16.2</td>\n",
       "    </tr>\n",
       "    <tr>\n",
       "      <th>0</th>\n",
       "      <td>Добавить два новых канала привлечения трафика, что позволит привлекать на 30% больше пользователей</td>\n",
       "      <td>13.3</td>\n",
       "    </tr>\n",
       "    <tr>\n",
       "      <th>7</th>\n",
       "      <td>Добавить форму подписки на все основные страницы, чтобы собрать базу клиентов для email-рассылок</td>\n",
       "      <td>11.2</td>\n",
       "    </tr>\n",
       "    <tr>\n",
       "      <th>6</th>\n",
       "      <td>Показать на главной странице баннеры с актуальными акциями и распродажами, чтобы увеличить конверсию</td>\n",
       "      <td>8.0</td>\n",
       "    </tr>\n",
       "    <tr>\n",
       "      <th>2</th>\n",
       "      <td>Добавить блоки рекомендаций товаров на сайт интернет магазина, чтобы повысить конверсию и средний чек заказа</td>\n",
       "      <td>7.0</td>\n",
       "    </tr>\n",
       "    <tr>\n",
       "      <th>1</th>\n",
       "      <td>Запустить собственную службу доставки, что сократит срок доставки заказов</td>\n",
       "      <td>2.0</td>\n",
       "    </tr>\n",
       "    <tr>\n",
       "      <th>5</th>\n",
       "      <td>Добавить страницу отзывов клиентов о магазине, что позволит увеличить количество заказов</td>\n",
       "      <td>1.3</td>\n",
       "    </tr>\n",
       "    <tr>\n",
       "      <th>3</th>\n",
       "      <td>Изменить структура категорий, что увеличит конверсию, т.к. пользователи быстрее найдут нужный товар</td>\n",
       "      <td>1.1</td>\n",
       "    </tr>\n",
       "    <tr>\n",
       "      <th>4</th>\n",
       "      <td>Изменить цвет фона главной страницы, чтобы увеличить вовлеченность пользователей</td>\n",
       "      <td>1.0</td>\n",
       "    </tr>\n",
       "  </tbody>\n",
       "</table>\n",
       "</div>"
      ],
      "text/plain": [
       "                                                                                                     hypothesis  \\\n",
       "8                                                       Запустить акцию, дающую скидку на товар в день рождения   \n",
       "0            Добавить два новых канала привлечения трафика, что позволит привлекать на 30% больше пользователей   \n",
       "7              Добавить форму подписки на все основные страницы, чтобы собрать базу клиентов для email-рассылок   \n",
       "6          Показать на главной странице баннеры с актуальными акциями и распродажами, чтобы увеличить конверсию   \n",
       "2  Добавить блоки рекомендаций товаров на сайт интернет магазина, чтобы повысить конверсию и средний чек заказа   \n",
       "1                                     Запустить собственную службу доставки, что сократит срок доставки заказов   \n",
       "5                      Добавить страницу отзывов клиентов о магазине, что позволит увеличить количество заказов   \n",
       "3           Изменить структура категорий, что увеличит конверсию, т.к. пользователи быстрее найдут нужный товар   \n",
       "4                              Изменить цвет фона главной страницы, чтобы увеличить вовлеченность пользователей   \n",
       "\n",
       "    ICE  \n",
       "8  16.2  \n",
       "0  13.3  \n",
       "7  11.2  \n",
       "6   8.0  \n",
       "2   7.0  \n",
       "1   2.0  \n",
       "5   1.3  \n",
       "3   1.1  \n",
       "4   1.0  "
      ]
     },
     "execution_count": 16,
     "metadata": {},
     "output_type": "execute_result"
    }
   ],
   "source": [
    "# Увеличим ширину столбца\n",
    "pd.set_option('max_colwidth', 120)\n",
    "# Отсортируем гипотезы по ICE по убыванию приоритета и выведем на экран.\n",
    "hypothesis[['hypothesis', 'ICE']].sort_values(by='ICE', ascending=False)"
   ]
  },
  {
   "cell_type": "markdown",
   "metadata": {},
   "source": [
    "#### Применение фреймворка RICE для приоритизации гипотез. "
   ]
  },
  {
   "cell_type": "code",
   "execution_count": 17,
   "metadata": {},
   "outputs": [],
   "source": [
    "# Добавим столбец RICE для приоритизации гипотез\n",
    "hypothesis['RICE'] = ((hypothesis['reach'] * hypothesis['impact'] * hypothesis['confidence']) / hypothesis['efforts']).round(1)"
   ]
  },
  {
   "cell_type": "code",
   "execution_count": 18,
   "metadata": {
    "scrolled": true
   },
   "outputs": [
    {
     "data": {
      "text/html": [
       "<div>\n",
       "<style scoped>\n",
       "    .dataframe tbody tr th:only-of-type {\n",
       "        vertical-align: middle;\n",
       "    }\n",
       "\n",
       "    .dataframe tbody tr th {\n",
       "        vertical-align: top;\n",
       "    }\n",
       "\n",
       "    .dataframe thead th {\n",
       "        text-align: right;\n",
       "    }\n",
       "</style>\n",
       "<table border=\"1\" class=\"dataframe\">\n",
       "  <thead>\n",
       "    <tr style=\"text-align: right;\">\n",
       "      <th></th>\n",
       "      <th>hypothesis</th>\n",
       "      <th>RICE</th>\n",
       "      <th>reach</th>\n",
       "    </tr>\n",
       "  </thead>\n",
       "  <tbody>\n",
       "    <tr>\n",
       "      <th>7</th>\n",
       "      <td>Добавить форму подписки на все основные страницы, чтобы собрать базу клиентов для email-рассылок</td>\n",
       "      <td>112.0</td>\n",
       "      <td>10</td>\n",
       "    </tr>\n",
       "    <tr>\n",
       "      <th>2</th>\n",
       "      <td>Добавить блоки рекомендаций товаров на сайт интернет магазина, чтобы повысить конверсию и средний чек заказа</td>\n",
       "      <td>56.0</td>\n",
       "      <td>8</td>\n",
       "    </tr>\n",
       "    <tr>\n",
       "      <th>0</th>\n",
       "      <td>Добавить два новых канала привлечения трафика, что позволит привлекать на 30% больше пользователей</td>\n",
       "      <td>40.0</td>\n",
       "      <td>3</td>\n",
       "    </tr>\n",
       "    <tr>\n",
       "      <th>6</th>\n",
       "      <td>Показать на главной странице баннеры с актуальными акциями и распродажами, чтобы увеличить конверсию</td>\n",
       "      <td>40.0</td>\n",
       "      <td>5</td>\n",
       "    </tr>\n",
       "    <tr>\n",
       "      <th>8</th>\n",
       "      <td>Запустить акцию, дающую скидку на товар в день рождения</td>\n",
       "      <td>16.2</td>\n",
       "      <td>1</td>\n",
       "    </tr>\n",
       "    <tr>\n",
       "      <th>3</th>\n",
       "      <td>Изменить структура категорий, что увеличит конверсию, т.к. пользователи быстрее найдут нужный товар</td>\n",
       "      <td>9.0</td>\n",
       "      <td>8</td>\n",
       "    </tr>\n",
       "    <tr>\n",
       "      <th>1</th>\n",
       "      <td>Запустить собственную службу доставки, что сократит срок доставки заказов</td>\n",
       "      <td>4.0</td>\n",
       "      <td>2</td>\n",
       "    </tr>\n",
       "    <tr>\n",
       "      <th>5</th>\n",
       "      <td>Добавить страницу отзывов клиентов о магазине, что позволит увеличить количество заказов</td>\n",
       "      <td>4.0</td>\n",
       "      <td>3</td>\n",
       "    </tr>\n",
       "    <tr>\n",
       "      <th>4</th>\n",
       "      <td>Изменить цвет фона главной страницы, чтобы увеличить вовлеченность пользователей</td>\n",
       "      <td>3.0</td>\n",
       "      <td>3</td>\n",
       "    </tr>\n",
       "  </tbody>\n",
       "</table>\n",
       "</div>"
      ],
      "text/plain": [
       "                                                                                                     hypothesis  \\\n",
       "7              Добавить форму подписки на все основные страницы, чтобы собрать базу клиентов для email-рассылок   \n",
       "2  Добавить блоки рекомендаций товаров на сайт интернет магазина, чтобы повысить конверсию и средний чек заказа   \n",
       "0            Добавить два новых канала привлечения трафика, что позволит привлекать на 30% больше пользователей   \n",
       "6          Показать на главной странице баннеры с актуальными акциями и распродажами, чтобы увеличить конверсию   \n",
       "8                                                       Запустить акцию, дающую скидку на товар в день рождения   \n",
       "3           Изменить структура категорий, что увеличит конверсию, т.к. пользователи быстрее найдут нужный товар   \n",
       "1                                     Запустить собственную службу доставки, что сократит срок доставки заказов   \n",
       "5                      Добавить страницу отзывов клиентов о магазине, что позволит увеличить количество заказов   \n",
       "4                              Изменить цвет фона главной страницы, чтобы увеличить вовлеченность пользователей   \n",
       "\n",
       "    RICE  reach  \n",
       "7  112.0     10  \n",
       "2   56.0      8  \n",
       "0   40.0      3  \n",
       "6   40.0      5  \n",
       "8   16.2      1  \n",
       "3    9.0      8  \n",
       "1    4.0      2  \n",
       "5    4.0      3  \n",
       "4    3.0      3  "
      ]
     },
     "execution_count": 18,
     "metadata": {},
     "output_type": "execute_result"
    }
   ],
   "source": [
    "# Увеличим ширину столбца\n",
    "pd.set_option('max_colwidth', 120)\n",
    "# Отсортируем гипотезы по RICE по убыванию приоритета и выведем на экран.\n",
    "hypothesis[['hypothesis', 'RICE', 'reach']].sort_values(by='RICE', ascending=False)"
   ]
  },
  {
   "cell_type": "markdown",
   "metadata": {},
   "source": [
    "#### Вывод"
   ]
  },
  {
   "cell_type": "markdown",
   "metadata": {},
   "source": [
    "Различия в таблицах с ICE и RICE есть, но присутствуют и схожие моменты.\n",
    "\n",
    "В ICE мы видим, что в пятерку лидеров входят гипотезы с индексами 8, 0, 7, 6, 2. В RICE - 7, 2, 0, 6, 8. То есть, можно сделать вывод, что гипотезы с номерами индексов 8, 7, 6, 2, 0 являются весьма приоритетными и по ICE, и по RICE. Но стоит обратить внимание, что в RICE есть параметр reach, который учитывает какое количество пользователей затронет изменение. Чем выше этот параметр, тем гипотеза приоритетнее. Мы видим, что в гипотезе с индексом 7 (\"Добавить форму подписки на все основные страницы, чтобы собрать базу клиентов для email-рассылок\") параметр reach составляет целых 10 баллов, далее идет гипотеза с индексом 2 (\"Добавить блоки рекомендаций товаров на сайт интернет магазина, чтобы повысить конверсию и средний чек заказа\") с reach, равным 8. Также можно заметить, что в гипотезе с индексом 3 (\"Изменить структура категорий, что увеличит конверсию, т.к. пользователи быстрее найдут нужный товар\") параметр reach составляет 8 баллов, однако, эта гипотеза находится только на 6 месте. \n",
    "\n",
    "Гипотезы с индексом 1 (\"Запустить собственную службу доставки, что сократит срок доставки заказов\"), 5 (\"Добавить страницу отзывов клиентов о магазине, что позволит увеличить количество заказов\"), 3 (\"Изменить структура категорий, что увеличит конверсию, т.к. пользователи быстрее найдут нужный товар\") и особенно 4 (\"Изменить цвет фона главной страницы, чтобы увеличить вовлеченность пользователей\") являются низкими по приоритету в обоих случаях.\n",
    "\n",
    "Исходя из всего вышесказанного, я думаю, что в первую очередь стоит обратить внимание на тестирование гипотез под номерами индексов 7 (\"Добавить форму подписки на все основные страницы, чтобы собрать базу клиентов для email-рассылок\"), 2 (\"Добавить блоки рекомендаций товаров на сайт интернет магазина, чтобы повысить конверсию и средний чек заказа\"),  0 (\"Добавить два новых канала привлечения трафика, что позволит привлекать на 30% больше пользователей\"). Также, возможно, в дальнейшем стоит присмотреться к гипотезам с индексами 6 (\"Показать на главной странице баннеры с актуальными акциями и распродажами, чтобы увеличить конверсию\") и 8 (\"Запустить акцию, дающую скидку на товар в день рождения\"). "
   ]
  },
  {
   "cell_type": "markdown",
   "metadata": {},
   "source": [
    "### Часть 2. Анализ A/B-теста"
   ]
  },
  {
   "cell_type": "markdown",
   "metadata": {},
   "source": [
    "#### Построение графика кумулятивной выручки по группам\n"
   ]
  },
  {
   "cell_type": "code",
   "execution_count": 19,
   "metadata": {},
   "outputs": [
    {
     "data": {
      "text/html": [
       "<div>\n",
       "<style scoped>\n",
       "    .dataframe tbody tr th:only-of-type {\n",
       "        vertical-align: middle;\n",
       "    }\n",
       "\n",
       "    .dataframe tbody tr th {\n",
       "        vertical-align: top;\n",
       "    }\n",
       "\n",
       "    .dataframe thead th {\n",
       "        text-align: right;\n",
       "    }\n",
       "</style>\n",
       "<table border=\"1\" class=\"dataframe\">\n",
       "  <thead>\n",
       "    <tr style=\"text-align: right;\">\n",
       "      <th></th>\n",
       "      <th>transaction_id</th>\n",
       "      <th>visitor_id</th>\n",
       "      <th>date</th>\n",
       "      <th>revenue</th>\n",
       "      <th>group</th>\n",
       "    </tr>\n",
       "  </thead>\n",
       "  <tbody>\n",
       "    <tr>\n",
       "      <th>0</th>\n",
       "      <td>3667963787</td>\n",
       "      <td>3312258926</td>\n",
       "      <td>2019-08-15</td>\n",
       "      <td>1650</td>\n",
       "      <td>B</td>\n",
       "    </tr>\n",
       "    <tr>\n",
       "      <th>1</th>\n",
       "      <td>2804400009</td>\n",
       "      <td>3642806036</td>\n",
       "      <td>2019-08-15</td>\n",
       "      <td>730</td>\n",
       "      <td>B</td>\n",
       "    </tr>\n",
       "    <tr>\n",
       "      <th>2</th>\n",
       "      <td>2961555356</td>\n",
       "      <td>4069496402</td>\n",
       "      <td>2019-08-15</td>\n",
       "      <td>400</td>\n",
       "      <td>A</td>\n",
       "    </tr>\n",
       "    <tr>\n",
       "      <th>3</th>\n",
       "      <td>3797467345</td>\n",
       "      <td>1196621759</td>\n",
       "      <td>2019-08-15</td>\n",
       "      <td>9759</td>\n",
       "      <td>B</td>\n",
       "    </tr>\n",
       "    <tr>\n",
       "      <th>4</th>\n",
       "      <td>2282983706</td>\n",
       "      <td>2322279887</td>\n",
       "      <td>2019-08-15</td>\n",
       "      <td>2308</td>\n",
       "      <td>B</td>\n",
       "    </tr>\n",
       "  </tbody>\n",
       "</table>\n",
       "</div>"
      ],
      "text/plain": [
       "   transaction_id  visitor_id       date  revenue group\n",
       "0      3667963787  3312258926 2019-08-15     1650     B\n",
       "1      2804400009  3642806036 2019-08-15      730     B\n",
       "2      2961555356  4069496402 2019-08-15      400     A\n",
       "3      3797467345  1196621759 2019-08-15     9759     B\n",
       "4      2282983706  2322279887 2019-08-15     2308     B"
      ]
     },
     "metadata": {},
     "output_type": "display_data"
    },
    {
     "data": {
      "text/html": [
       "<div>\n",
       "<style scoped>\n",
       "    .dataframe tbody tr th:only-of-type {\n",
       "        vertical-align: middle;\n",
       "    }\n",
       "\n",
       "    .dataframe tbody tr th {\n",
       "        vertical-align: top;\n",
       "    }\n",
       "\n",
       "    .dataframe thead th {\n",
       "        text-align: right;\n",
       "    }\n",
       "</style>\n",
       "<table border=\"1\" class=\"dataframe\">\n",
       "  <thead>\n",
       "    <tr style=\"text-align: right;\">\n",
       "      <th></th>\n",
       "      <th>date</th>\n",
       "      <th>group</th>\n",
       "      <th>visitors</th>\n",
       "    </tr>\n",
       "  </thead>\n",
       "  <tbody>\n",
       "    <tr>\n",
       "      <th>0</th>\n",
       "      <td>2019-08-01</td>\n",
       "      <td>A</td>\n",
       "      <td>719</td>\n",
       "    </tr>\n",
       "    <tr>\n",
       "      <th>1</th>\n",
       "      <td>2019-08-02</td>\n",
       "      <td>A</td>\n",
       "      <td>619</td>\n",
       "    </tr>\n",
       "    <tr>\n",
       "      <th>2</th>\n",
       "      <td>2019-08-03</td>\n",
       "      <td>A</td>\n",
       "      <td>507</td>\n",
       "    </tr>\n",
       "    <tr>\n",
       "      <th>3</th>\n",
       "      <td>2019-08-04</td>\n",
       "      <td>A</td>\n",
       "      <td>717</td>\n",
       "    </tr>\n",
       "    <tr>\n",
       "      <th>4</th>\n",
       "      <td>2019-08-05</td>\n",
       "      <td>A</td>\n",
       "      <td>756</td>\n",
       "    </tr>\n",
       "  </tbody>\n",
       "</table>\n",
       "</div>"
      ],
      "text/plain": [
       "        date group  visitors\n",
       "0 2019-08-01     A       719\n",
       "1 2019-08-02     A       619\n",
       "2 2019-08-03     A       507\n",
       "3 2019-08-04     A       717\n",
       "4 2019-08-05     A       756"
      ]
     },
     "execution_count": 19,
     "metadata": {},
     "output_type": "execute_result"
    }
   ],
   "source": [
    "# Выведем на экран таблицы orders и visitors\n",
    "display(orders.head(5))\n",
    "visitors.head(5)"
   ]
  },
  {
   "cell_type": "code",
   "execution_count": 20,
   "metadata": {},
   "outputs": [
    {
     "data": {
      "text/plain": [
       "58"
      ]
     },
     "execution_count": 20,
     "metadata": {},
     "output_type": "execute_result"
    }
   ],
   "source": [
    "# Создадим две группы из данных с заказами \n",
    "group_a=orders.query('group == \"A\"') \n",
    "group_b=orders.query('group == \"B\"') \n",
    "  \n",
    "# Получим id пользователей, попавших в обе группы \n",
    "group_a_and_b=list(np.intersect1d(group_a['visitor_id'], group_b['visitor_id']))\n",
    "len(group_a_and_b)"
   ]
  },
  {
   "cell_type": "markdown",
   "metadata": {},
   "source": [
    "Мы узнали, что 58 пользователей попадают в обе группы."
   ]
  },
  {
   "cell_type": "code",
   "execution_count": 21,
   "metadata": {},
   "outputs": [
    {
     "data": {
      "text/html": [
       "<div>\n",
       "<style scoped>\n",
       "    .dataframe tbody tr th:only-of-type {\n",
       "        vertical-align: middle;\n",
       "    }\n",
       "\n",
       "    .dataframe tbody tr th {\n",
       "        vertical-align: top;\n",
       "    }\n",
       "\n",
       "    .dataframe thead th {\n",
       "        text-align: right;\n",
       "    }\n",
       "</style>\n",
       "<table border=\"1\" class=\"dataframe\">\n",
       "  <thead>\n",
       "    <tr style=\"text-align: right;\">\n",
       "      <th></th>\n",
       "      <th>date</th>\n",
       "      <th>group</th>\n",
       "      <th>orders</th>\n",
       "      <th>buyers</th>\n",
       "      <th>revenue</th>\n",
       "      <th>visitors</th>\n",
       "    </tr>\n",
       "  </thead>\n",
       "  <tbody>\n",
       "    <tr>\n",
       "      <th>0</th>\n",
       "      <td>2019-08-01</td>\n",
       "      <td>A</td>\n",
       "      <td>24</td>\n",
       "      <td>20</td>\n",
       "      <td>148579</td>\n",
       "      <td>719</td>\n",
       "    </tr>\n",
       "    <tr>\n",
       "      <th>1</th>\n",
       "      <td>2019-08-01</td>\n",
       "      <td>B</td>\n",
       "      <td>21</td>\n",
       "      <td>20</td>\n",
       "      <td>101217</td>\n",
       "      <td>713</td>\n",
       "    </tr>\n",
       "    <tr>\n",
       "      <th>2</th>\n",
       "      <td>2019-08-02</td>\n",
       "      <td>A</td>\n",
       "      <td>44</td>\n",
       "      <td>38</td>\n",
       "      <td>242401</td>\n",
       "      <td>1338</td>\n",
       "    </tr>\n",
       "    <tr>\n",
       "      <th>3</th>\n",
       "      <td>2019-08-02</td>\n",
       "      <td>B</td>\n",
       "      <td>45</td>\n",
       "      <td>43</td>\n",
       "      <td>266748</td>\n",
       "      <td>1294</td>\n",
       "    </tr>\n",
       "    <tr>\n",
       "      <th>4</th>\n",
       "      <td>2019-08-03</td>\n",
       "      <td>A</td>\n",
       "      <td>68</td>\n",
       "      <td>62</td>\n",
       "      <td>354874</td>\n",
       "      <td>1845</td>\n",
       "    </tr>\n",
       "  </tbody>\n",
       "</table>\n",
       "</div>"
      ],
      "text/plain": [
       "        date group  orders  buyers  revenue  visitors\n",
       "0 2019-08-01     A      24      20   148579       719\n",
       "1 2019-08-01     B      21      20   101217       713\n",
       "2 2019-08-02     A      44      38   242401      1338\n",
       "3 2019-08-02     B      45      43   266748      1294\n",
       "4 2019-08-03     A      68      62   354874      1845"
      ]
     },
     "execution_count": 21,
     "metadata": {},
     "output_type": "execute_result"
    }
   ],
   "source": [
    "# Cоздаем массив уникальных пар значений дат и групп теста\n",
    "datesGroups = orders[['date','group']].drop_duplicates() \n",
    "# получаем агрегированные кумулятивные по дням данные о заказах \n",
    "ordersAggregated = datesGroups.apply(lambda x: orders[np.logical_and(orders['date'] <= x['date'], orders['group'] == x['group'])].agg({'date' : 'max', 'group' : 'max', 'transaction_id' : 'nunique', 'visitor_id' : 'nunique', 'revenue' : 'sum'}), axis=1).sort_values(by=['date','group'])\n",
    "# получаем агрегированные кумулятивные по дням данные о посетителях интернет-магазина \n",
    "visitorsAggregated = datesGroups.apply(lambda x: visitors[np.logical_and(visitors['date'] <= x['date'], visitors['group'] == x['group'])].agg({'date' : 'max', 'group' : 'max', 'visitors' : 'sum'}), axis=1).sort_values(by=['date','group'])\n",
    "# объединяем кумулятивные данные в одной таблице и присваиваем ее столбцам понятные названия\n",
    "cumulativeData = ordersAggregated.merge(visitorsAggregated, left_on=['date', 'group'], right_on=['date', 'group'])\n",
    "cumulativeData.columns = ['date', 'group', 'orders', 'buyers', 'revenue', 'visitors']\n",
    "cumulativeData.head(5)"
   ]
  },
  {
   "cell_type": "code",
   "execution_count": 22,
   "metadata": {},
   "outputs": [
    {
     "data": {
      "text/plain": [
       "<matplotlib.legend.Legend at 0x7f1e52c19fa0>"
      ]
     },
     "execution_count": 22,
     "metadata": {},
     "output_type": "execute_result"
    },
    {
     "data": {
      "image/png": "[encoded data removed]",
      "text/plain": [
       "<Figure size 1080x360 with 1 Axes>"
      ]
     },
     "metadata": {
      "needs_background": "light"
     },
     "output_type": "display_data"
    }
   ],
   "source": [
    "# Создаем датафрейм с кумулятивным количеством заказов и кумулятивной выручкой по дням в группе А\n",
    "cumulativeRevenueA = cumulativeData[cumulativeData['group']=='A'][['date','revenue', 'orders']]\n",
    "# Создаем датафрейм с кумулятивным количеством заказов и кумулятивной выручкой по дням в группе B\n",
    "cumulativeRevenueB = cumulativeData[cumulativeData['group']=='B'][['date','revenue', 'orders']]\n",
    "# Задаем размер графика\n",
    "plt.figure(figsize=(15,5))\n",
    "# Строим график выручки группы А\n",
    "plt.plot(cumulativeRevenueA['date'], cumulativeRevenueA['revenue'], label='A')\n",
    "# Строим график выручки группы B\n",
    "plt.plot(cumulativeRevenueB['date'], cumulativeRevenueB['revenue'], label='B')\n",
    "plt.title('Кумулятивная выручка по группам')\n",
    "plt.ylabel('Выручка')\n",
    "plt.grid()\n",
    "plt.legend()"
   ]
  },
  {
   "cell_type": "markdown",
   "metadata": {},
   "source": [
    "***На основе полученных данных можно отметить, что:***\n",
    "\n",
    "Выручка все время растет для обеих групп. В период с 01.08.2019 по 05.08.2019 выручка была практически одинаковой и в группе А, и в группе В.\n",
    "\n",
    "Примерно 18.08.2019 у группы В произошел резкий рост выручки, наверняка это было с чем-то связано, например с большим количеством заказов или с заказами с высокой стоимостью.\n",
    "\n",
    "Также можно отметить, что в группе В выручка практически все время выше, чем в группе А."
   ]
  },
  {
   "cell_type": "markdown",
   "metadata": {},
   "source": [
    "#### Построение графика кумулятивного среднего чека по группам"
   ]
  },
  {
   "cell_type": "code",
   "execution_count": 23,
   "metadata": {},
   "outputs": [
    {
     "data": {
      "text/plain": [
       "<matplotlib.legend.Legend at 0x7f1e4a6d1520>"
      ]
     },
     "execution_count": 23,
     "metadata": {},
     "output_type": "execute_result"
    },
    {
     "data": {
      "image/png": "[encoded data removed]",
      "text/plain": [
       "<Figure size 1080x360 with 1 Axes>"
      ]
     },
     "metadata": {
      "needs_background": "light"
     },
     "output_type": "display_data"
    }
   ],
   "source": [
    "# Задаем размер графика\n",
    "plt.figure(figsize=(15,5))\n",
    "# Строим график кумулятивного среднего чека группы А\n",
    "plt.plot(cumulativeRevenueA['date'], cumulativeRevenueA['revenue']/cumulativeRevenueA['orders'], label='A')\n",
    "# Строим график кумулятивного среднего чека группы В\n",
    "plt.plot(cumulativeRevenueB['date'], cumulativeRevenueB['revenue']/cumulativeRevenueB['orders'], label='B')\n",
    "plt.title('Кумулятивный средний чек по группам')\n",
    "plt.ylabel('Кумулятивный cредний чек')\n",
    "plt.grid()\n",
    "plt.legend()"
   ]
  },
  {
   "cell_type": "markdown",
   "metadata": {},
   "source": [
    "***На основе полученных данных можно отметить, что:***\n",
    "\n",
    "Кумулятивный cредний чек для обеих групп то рос, то падал, то снова рос. \n",
    "\n",
    "У группы В мы снова видим резкий рост 18.08.2019, соответственно, скорее всего в этот день в группе В случился один или несколько крупных заказов. После чего на графике заметно небольшое падение среднего чека.\n",
    "\n",
    "Также мы видим, что у группы В средний чек, в целом, выше, чем в группе А. Однако 01.08.2019 и 13.08.2019, средний чек в группе А был несколько выше, чем в группе В.\n",
    "\n",
    "Рост для группы А более равномерный, чем для группы В. Начиная с 18.08.2019 мы видим очень плавный рост."
   ]
  },
  {
   "cell_type": "markdown",
   "metadata": {},
   "source": [
    "#### Построение графика относительного изменения кумулятивного среднего чека группы B к группе A"
   ]
  },
  {
   "cell_type": "code",
   "execution_count": 24,
   "metadata": {},
   "outputs": [
    {
     "data": {
      "image/png": "[encoded data removed]",
      "text/plain": [
       "<Figure size 1080x360 with 1 Axes>"
      ]
     },
     "metadata": {
      "needs_background": "light"
     },
     "output_type": "display_data"
    }
   ],
   "source": [
    "# Собираем данные в одном датафрейме\n",
    "mergedCumulativeRevenue = cumulativeRevenueA.merge(cumulativeRevenueB, left_on='date', right_on='date', how='left', suffixes=['A', 'B'])\n",
    "# Задаем размер графика\n",
    "plt.figure(figsize=(15,5))\n",
    "# Строим отношение средних чеков\n",
    "plt.plot(mergedCumulativeRevenue['date'], (mergedCumulativeRevenue['revenueB']/mergedCumulativeRevenue['ordersB'])/(mergedCumulativeRevenue['revenueA']/mergedCumulativeRevenue['ordersA'])-1)\n",
    "# Добавляем ось X\n",
    "plt.axhline(y=0, color='black', linestyle='--')\n",
    "plt.title('Относительное изменение кумулятивного среднего чека группы B к группе A')\n",
    "plt.ylabel('Кумулятивный cредний чек')\n",
    "plt.grid()"
   ]
  },
  {
   "cell_type": "markdown",
   "metadata": {},
   "source": [
    "***На основе полученных данных можно отметить, что:***\n",
    "\n",
    "В нескольких точках график различия между сегментами резко «скачет». Возможно, где-то спрятались крупные заказы и выбросы.\n",
    "\n",
    "В целом, мы видим рост с 01.08.2019 до 08.08.2019. Далее идет спад до 13.08.2019. Как раз в период с 12.08.2019 по 14.08.2019 средний чек для группы А выше, чем для группы В. Далее идет рост, причем мы снова видим резкий скачок роста 18.08.2019. Далее средний чек постепенно снижается."
   ]
  },
  {
   "cell_type": "markdown",
   "metadata": {},
   "source": [
    "#### Построение графика кумулятивного среднего количества заказов на посетителя по группам"
   ]
  },
  {
   "cell_type": "code",
   "execution_count": 25,
   "metadata": {},
   "outputs": [
    {
     "data": {
      "image/png": "[encoded data removed]",
      "text/plain": [
       "<Figure size 1080x360 with 1 Axes>"
      ]
     },
     "metadata": {
      "needs_background": "light"
     },
     "output_type": "display_data"
    }
   ],
   "source": [
    "# Считаем кумулятивную конверсию\n",
    "cumulativeData['conversion'] = cumulativeData['orders']/cumulativeData['visitors']\n",
    "# Отделяем данные по группе A\n",
    "cumulativeDataA = cumulativeData[cumulativeData['group']=='A']\n",
    "# Отделяем данные по группе B\n",
    "cumulativeDataB = cumulativeData[cumulativeData['group']=='B']\n",
    "# Задаем размер графика\n",
    "plt.figure(figsize=(15,5))\n",
    "# Строим график\n",
    "plt.plot(cumulativeDataA['date'], cumulativeDataA['conversion'], label='A')\n",
    "plt.plot(cumulativeDataB['date'], cumulativeDataB['conversion'], label='B')\n",
    "plt.legend()\n",
    "plt.title('Кумулятивное среднее количество заказов на посетителя по группам')\n",
    "plt.ylabel('Кумулятивная конверсия')\n",
    "plt.grid()"
   ]
  },
  {
   "cell_type": "markdown",
   "metadata": {},
   "source": [
    "***На основе полученных данных можно отметить, что:***\n",
    "\n",
    "Мы видим, что 01.08.2019 и в период с 03.08.2019 по 05.08.2019 конверсия для группы А была выше, чем для группы В. Причем 03.08.2019 конверсия была самой высокой за весь исследуемый период. \n",
    "\n",
    "С 06.08.2019 все меняется и конверсия группы А идет вниз с дальнейшим выравниманием и небольшими колебаниями, а конверсия группы В, наоборот, идет вверх, но в дальнейшем также выравнивается. В целом, конверсия группы В выше, чем конверсия группы А."
   ]
  },
  {
   "cell_type": "markdown",
   "metadata": {},
   "source": [
    "#### Построение графика относительного изменения кумулятивного среднего количества заказов на посетителя группы B к группе A"
   ]
  },
  {
   "cell_type": "code",
   "execution_count": 26,
   "metadata": {},
   "outputs": [
    {
     "data": {
      "image/png": "[encoded data removed]",
      "text/plain": [
       "<Figure size 1080x360 with 1 Axes>"
      ]
     },
     "metadata": {
      "needs_background": "light"
     },
     "output_type": "display_data"
    }
   ],
   "source": [
    "# Собираем данные в одном датафрейме\n",
    "mergedCumulativeConversions = cumulativeDataA[['date','conversion']].merge(cumulativeDataB[['date','conversion']], left_on='date', right_on='date', how='left', suffixes=['A', 'B'])\n",
    "# Задаем размер графика\n",
    "plt.figure(figsize=(15,5))\n",
    "# Строим график\n",
    "plt.plot(mergedCumulativeConversions['date'], mergedCumulativeConversions['conversionB']/mergedCumulativeConversions['conversionA']-1, label=\"Относительный прирост конверсии группы B относительно группы A\")\n",
    "plt.legend()\n",
    "plt.axhline(y=0, color='black', linestyle='--')\n",
    "plt.axhline(y=0.1, color='grey', linestyle='--')\n",
    "plt.title('Относительное изменение кумулятивного среднего количества заказов на посетителя группы B к группе A')\n",
    "plt.ylabel('Кумулятивная конверсия')\n",
    "plt.grid()"
   ]
  },
  {
   "cell_type": "markdown",
   "metadata": {},
   "source": [
    "***На основе полученных данных можно отметить, что:***\n",
    "\n",
    "Пик конверсии составляет 21% и приходится на 15.08.2019.\n",
    "\n",
    "Мы видим, что 01.08.2019 и в период с 03.08.2019 по 06.08.2019 конверсия группы А была выше. Далее, начиная с 06.08.2019 конверсия группы В начинает свой рост с дальнейшим выравниваем. "
   ]
  },
  {
   "cell_type": "markdown",
   "metadata": {},
   "source": [
    "#### Построение точечного графика количества заказов по пользователям"
   ]
  },
  {
   "cell_type": "code",
   "execution_count": 27,
   "metadata": {},
   "outputs": [
    {
     "data": {
      "text/html": [
       "<div>\n",
       "<style scoped>\n",
       "    .dataframe tbody tr th:only-of-type {\n",
       "        vertical-align: middle;\n",
       "    }\n",
       "\n",
       "    .dataframe tbody tr th {\n",
       "        vertical-align: top;\n",
       "    }\n",
       "\n",
       "    .dataframe thead th {\n",
       "        text-align: right;\n",
       "    }\n",
       "</style>\n",
       "<table border=\"1\" class=\"dataframe\">\n",
       "  <thead>\n",
       "    <tr style=\"text-align: right;\">\n",
       "      <th></th>\n",
       "      <th>visitor_id</th>\n",
       "      <th>orders</th>\n",
       "    </tr>\n",
       "  </thead>\n",
       "  <tbody>\n",
       "    <tr>\n",
       "      <th>1023</th>\n",
       "      <td>4256040402</td>\n",
       "      <td>11</td>\n",
       "    </tr>\n",
       "    <tr>\n",
       "      <th>591</th>\n",
       "      <td>2458001652</td>\n",
       "      <td>11</td>\n",
       "    </tr>\n",
       "    <tr>\n",
       "      <th>569</th>\n",
       "      <td>2378935119</td>\n",
       "      <td>9</td>\n",
       "    </tr>\n",
       "    <tr>\n",
       "      <th>487</th>\n",
       "      <td>2038680547</td>\n",
       "      <td>8</td>\n",
       "    </tr>\n",
       "    <tr>\n",
       "      <th>44</th>\n",
       "      <td>199603092</td>\n",
       "      <td>5</td>\n",
       "    </tr>\n",
       "    <tr>\n",
       "      <th>...</th>\n",
       "      <td>...</td>\n",
       "      <td>...</td>\n",
       "    </tr>\n",
       "    <tr>\n",
       "      <th>359</th>\n",
       "      <td>1484903144</td>\n",
       "      <td>1</td>\n",
       "    </tr>\n",
       "    <tr>\n",
       "      <th>360</th>\n",
       "      <td>1485964287</td>\n",
       "      <td>1</td>\n",
       "    </tr>\n",
       "    <tr>\n",
       "      <th>361</th>\n",
       "      <td>1494664757</td>\n",
       "      <td>1</td>\n",
       "    </tr>\n",
       "    <tr>\n",
       "      <th>362</th>\n",
       "      <td>1495112755</td>\n",
       "      <td>1</td>\n",
       "    </tr>\n",
       "    <tr>\n",
       "      <th>1030</th>\n",
       "      <td>4283872382</td>\n",
       "      <td>1</td>\n",
       "    </tr>\n",
       "  </tbody>\n",
       "</table>\n",
       "<p>1031 rows × 2 columns</p>\n",
       "</div>"
      ],
      "text/plain": [
       "      visitor_id  orders\n",
       "1023  4256040402      11\n",
       "591   2458001652      11\n",
       "569   2378935119       9\n",
       "487   2038680547       8\n",
       "44     199603092       5\n",
       "...          ...     ...\n",
       "359   1484903144       1\n",
       "360   1485964287       1\n",
       "361   1494664757       1\n",
       "362   1495112755       1\n",
       "1030  4283872382       1\n",
       "\n",
       "[1031 rows x 2 columns]"
      ]
     },
     "execution_count": 27,
     "metadata": {},
     "output_type": "execute_result"
    }
   ],
   "source": [
    "# Подсчитаем количество заказов по пользователям и посмотрим на результат\n",
    "ordersByUsers = orders.groupby('visitor_id', as_index=False).agg({'transaction_id': 'nunique'})\n",
    "ordersByUsers.columns = ['visitor_id', 'orders']\n",
    "ordersByUsers.sort_values(by='orders', ascending=False)"
   ]
  },
  {
   "cell_type": "code",
   "execution_count": 28,
   "metadata": {},
   "outputs": [
    {
     "data": {
      "image/png": "[encoded data removed]",
      "text/plain": [
       "<Figure size 1080x360 with 1 Axes>"
      ]
     },
     "metadata": {
      "needs_background": "light"
     },
     "output_type": "display_data"
    }
   ],
   "source": [
    "# Построим точечный график числа заказов на одного пользователя\n",
    "x_values = pd.Series(range(0,len(ordersByUsers)))\n",
    "# Задаем размер графика\n",
    "plt.figure(figsize=(15,5))\n",
    "# Строим график\n",
    "plt.scatter(x_values, ordersByUsers['orders']) \n",
    "plt.title('Количество заказов по пользователям')\n",
    "plt.ylabel('Количество заказов')\n",
    "plt.grid()"
   ]
  },
  {
   "cell_type": "markdown",
   "metadata": {},
   "source": [
    "***На основе полученных данных можно отметить, что:***\n",
    "\n",
    "Самое большое количество пользователей соврешает по 1 заказу. Гораздо реже пользователи совершают 2, 3, 4 и 5 заказов.\n",
    "\n",
    "Также мы видим явные аномалии: есть единичные пользователи, которые сделали 8, 9 и 11 заказов.\n"
   ]
  },
  {
   "cell_type": "markdown",
   "metadata": {},
   "source": [
    "#### Посчитаем 95-й и 99-й перцентили количества заказов на пользователя"
   ]
  },
  {
   "cell_type": "code",
   "execution_count": 29,
   "metadata": {},
   "outputs": [
    {
     "data": {
      "text/plain": [
       "array([2., 4.])"
      ]
     },
     "execution_count": 29,
     "metadata": {},
     "output_type": "execute_result"
    }
   ],
   "source": [
    "# Рассчитаем 95 и 99 перцентили по заказам\n",
    "np.percentile(ordersByUsers['orders'], [95, 99])"
   ]
  },
  {
   "cell_type": "code",
   "execution_count": 30,
   "metadata": {},
   "outputs": [
    {
     "data": {
      "text/plain": [
       "array([2., 2., 2., 3., 4.])"
      ]
     },
     "execution_count": 30,
     "metadata": {},
     "output_type": "execute_result"
    }
   ],
   "source": [
    "# Рассчитаем 95-99 перцентили по заказам\n",
    "np.percentile(ordersByUsers['orders'], [95, 96, 97, 98, 99])"
   ]
  },
  {
   "cell_type": "markdown",
   "metadata": {},
   "source": [
    "***На основе полученных данных можно отметить, что:***\n",
    "\n",
    "Чаще всего пользователи совершали 1 или 2 заказа. Лишь 1% пользователей совершали 4 заказа и 2% - 3 заказа. Следовательно, значения выше 2 заказов можно отсечь."
   ]
  },
  {
   "cell_type": "markdown",
   "metadata": {},
   "source": [
    "#### Построение точечного графика стоимостей заказов"
   ]
  },
  {
   "cell_type": "code",
   "execution_count": 31,
   "metadata": {},
   "outputs": [
    {
     "data": {
      "image/png": "[encoded data removed]",
      "text/plain": [
       "<Figure size 1080x360 with 1 Axes>"
      ]
     },
     "metadata": {
      "needs_background": "light"
     },
     "output_type": "display_data"
    }
   ],
   "source": [
    "# Построим точечный график стоимостей заказов\n",
    "x_values = pd.Series(range(0,len(orders['revenue'])))\n",
    "# Задаем размер графика\n",
    "plt.figure(figsize=(15,5))\n",
    "# Строим график\n",
    "plt.scatter(x_values, orders['revenue'])\n",
    "plt.title('График стоимостей заказов')\n",
    "plt.ylabel('Стоимость заказа (млн)')\n",
    "plt.grid()"
   ]
  },
  {
   "cell_type": "code",
   "execution_count": 32,
   "metadata": {},
   "outputs": [
    {
     "data": {
      "image/png": "[encoded data removed]",
      "text/plain": [
       "<Figure size 1080x360 with 1 Axes>"
      ]
     },
     "metadata": {
      "needs_background": "light"
     },
     "output_type": "display_data"
    }
   ],
   "source": [
    "# Уберем из графика выбросы и аномалии\n",
    "orders_without_anomaly = orders[orders['revenue']<=200000]['revenue']\n",
    "x_values_2 = pd.Series(range(0,len(orders_without_anomaly)))\n",
    "# Задаем размер графика\n",
    "plt.figure(figsize=(15,5))\n",
    "# Строим график\n",
    "plt.scatter(x_values_2, orders_without_anomaly)\n",
    "plt.title('График стоимостей заказов')\n",
    "plt.ylabel('Стоимость заказа (млн)')\n",
    "plt.grid()"
   ]
  },
  {
   "cell_type": "markdown",
   "metadata": {},
   "source": [
    "***На основе полученных данных можно отметить, что:***\n",
    "\n",
    "У нас были аномальные заказы на сумму свыше 1.2 млн, а так же 200 тыс., которые мы убрали из графика. Теперь мы видим, что остались заказы, не превышающие сумму в 100 тыс."
   ]
  },
  {
   "cell_type": "markdown",
   "metadata": {},
   "source": [
    "#### Посчитаем 95-й и 99-й перцентили стоимости заказов"
   ]
  },
  {
   "cell_type": "code",
   "execution_count": 33,
   "metadata": {},
   "outputs": [
    {
     "data": {
      "text/plain": [
       "array([28000. , 58233.2])"
      ]
     },
     "execution_count": 33,
     "metadata": {},
     "output_type": "execute_result"
    }
   ],
   "source": [
    "# Рассчитаем 95 и 99 перцентили по заказам\n",
    "np.percentile(orders['revenue'], [95, 99])"
   ]
  },
  {
   "cell_type": "code",
   "execution_count": 34,
   "metadata": {},
   "outputs": [
    {
     "data": {
      "text/plain": [
       "array([28000. , 31382. , 35485. , 44133.2, 58233.2])"
      ]
     },
     "execution_count": 34,
     "metadata": {},
     "output_type": "execute_result"
    }
   ],
   "source": [
    "# Рассчитаем 95-99 перцентили по заказам\n",
    "np.percentile(orders['revenue'], [95, 96, 97, 98, 99])"
   ]
  },
  {
   "cell_type": "markdown",
   "metadata": {},
   "source": [
    "***На основе полученных данных можно отметить, что:***\n",
    "\n",
    "Лишь 1% пользователей совершает заказы на сумму 58233,2. 5% пользователей совершают заказы на сумму 28 тыс. Думаю, заказы на сумму свыше 28.000 можно отсечь."
   ]
  },
  {
   "cell_type": "markdown",
   "metadata": {},
   "source": [
    "#### Посчитаем статистическую значимость различий в среднем количестве заказов на посетителя между группами по «сырым» данным"
   ]
  },
  {
   "cell_type": "code",
   "execution_count": 35,
   "metadata": {},
   "outputs": [
    {
     "data": {
      "text/html": [
       "<div>\n",
       "<style scoped>\n",
       "    .dataframe tbody tr th:only-of-type {\n",
       "        vertical-align: middle;\n",
       "    }\n",
       "\n",
       "    .dataframe tbody tr th {\n",
       "        vertical-align: top;\n",
       "    }\n",
       "\n",
       "    .dataframe thead th {\n",
       "        text-align: right;\n",
       "    }\n",
       "</style>\n",
       "<table border=\"1\" class=\"dataframe\">\n",
       "  <thead>\n",
       "    <tr style=\"text-align: right;\">\n",
       "      <th></th>\n",
       "      <th>date</th>\n",
       "      <th>ordersPerDateA</th>\n",
       "      <th>revenuePerDateA</th>\n",
       "      <th>ordersPerDateB</th>\n",
       "      <th>revenuePerDateB</th>\n",
       "      <th>ordersCummulativeA</th>\n",
       "      <th>revenueCummulativeA</th>\n",
       "      <th>ordersCummulativeB</th>\n",
       "      <th>revenueCummulativeB</th>\n",
       "      <th>visitorsPerDateA</th>\n",
       "      <th>visitorsPerDateB</th>\n",
       "      <th>visitorsCummulativeA</th>\n",
       "      <th>visitorsCummulativeB</th>\n",
       "    </tr>\n",
       "  </thead>\n",
       "  <tbody>\n",
       "    <tr>\n",
       "      <th>0</th>\n",
       "      <td>2019-08-01</td>\n",
       "      <td>24</td>\n",
       "      <td>148579</td>\n",
       "      <td>21</td>\n",
       "      <td>101217</td>\n",
       "      <td>24</td>\n",
       "      <td>148579</td>\n",
       "      <td>21</td>\n",
       "      <td>101217</td>\n",
       "      <td>719</td>\n",
       "      <td>713</td>\n",
       "      <td>719</td>\n",
       "      <td>713</td>\n",
       "    </tr>\n",
       "    <tr>\n",
       "      <th>1</th>\n",
       "      <td>2019-08-02</td>\n",
       "      <td>20</td>\n",
       "      <td>93822</td>\n",
       "      <td>24</td>\n",
       "      <td>165531</td>\n",
       "      <td>44</td>\n",
       "      <td>242401</td>\n",
       "      <td>45</td>\n",
       "      <td>266748</td>\n",
       "      <td>619</td>\n",
       "      <td>581</td>\n",
       "      <td>1338</td>\n",
       "      <td>1294</td>\n",
       "    </tr>\n",
       "    <tr>\n",
       "      <th>2</th>\n",
       "      <td>2019-08-03</td>\n",
       "      <td>24</td>\n",
       "      <td>112473</td>\n",
       "      <td>16</td>\n",
       "      <td>114248</td>\n",
       "      <td>68</td>\n",
       "      <td>354874</td>\n",
       "      <td>61</td>\n",
       "      <td>380996</td>\n",
       "      <td>507</td>\n",
       "      <td>509</td>\n",
       "      <td>1845</td>\n",
       "      <td>1803</td>\n",
       "    </tr>\n",
       "    <tr>\n",
       "      <th>3</th>\n",
       "      <td>2019-08-04</td>\n",
       "      <td>16</td>\n",
       "      <td>70825</td>\n",
       "      <td>17</td>\n",
       "      <td>108571</td>\n",
       "      <td>84</td>\n",
       "      <td>425699</td>\n",
       "      <td>78</td>\n",
       "      <td>489567</td>\n",
       "      <td>717</td>\n",
       "      <td>770</td>\n",
       "      <td>2562</td>\n",
       "      <td>2573</td>\n",
       "    </tr>\n",
       "    <tr>\n",
       "      <th>4</th>\n",
       "      <td>2019-08-05</td>\n",
       "      <td>25</td>\n",
       "      <td>124218</td>\n",
       "      <td>23</td>\n",
       "      <td>92428</td>\n",
       "      <td>109</td>\n",
       "      <td>549917</td>\n",
       "      <td>101</td>\n",
       "      <td>581995</td>\n",
       "      <td>756</td>\n",
       "      <td>707</td>\n",
       "      <td>3318</td>\n",
       "      <td>3280</td>\n",
       "    </tr>\n",
       "  </tbody>\n",
       "</table>\n",
       "</div>"
      ],
      "text/plain": [
       "        date  ordersPerDateA  revenuePerDateA  ordersPerDateB  \\\n",
       "0 2019-08-01              24           148579              21   \n",
       "1 2019-08-02              20            93822              24   \n",
       "2 2019-08-03              24           112473              16   \n",
       "3 2019-08-04              16            70825              17   \n",
       "4 2019-08-05              25           124218              23   \n",
       "\n",
       "   revenuePerDateB  ordersCummulativeA  revenueCummulativeA  \\\n",
       "0           101217                  24               148579   \n",
       "1           165531                  44               242401   \n",
       "2           114248                  68               354874   \n",
       "3           108571                  84               425699   \n",
       "4            92428                 109               549917   \n",
       "\n",
       "   ordersCummulativeB  revenueCummulativeB  visitorsPerDateA  \\\n",
       "0                  21               101217               719   \n",
       "1                  45               266748               619   \n",
       "2                  61               380996               507   \n",
       "3                  78               489567               717   \n",
       "4                 101               581995               756   \n",
       "\n",
       "   visitorsPerDateB  visitorsCummulativeA  visitorsCummulativeB  \n",
       "0               713                   719                   713  \n",
       "1               581                  1338                  1294  \n",
       "2               509                  1845                  1803  \n",
       "3               770                  2562                  2573  \n",
       "4               707                  3318                  3280  "
      ]
     },
     "execution_count": 35,
     "metadata": {},
     "output_type": "execute_result"
    }
   ],
   "source": [
    "# Сформулируем гипотезы. Нулевая: различий в среднем количестве заказов между группами нет. Альтернативная: различия в среднем между группами есть\n",
    "# Начнём с подготовки данных\n",
    "visitorsADaily = visitors[visitors['group'] == 'A'][['date', 'visitors']]\n",
    "visitorsADaily.columns = ['date', 'visitorsPerDateA']\n",
    "\n",
    "visitorsACummulative = visitorsADaily.apply(lambda x: visitorsADaily[visitorsADaily['date'] <= x['date']].agg({'date': 'max', 'visitorsPerDateA': 'sum'}), axis=1,)\n",
    "visitorsACummulative.columns = ['date', 'visitorsCummulativeA']\n",
    "\n",
    "visitorsBDaily = visitors[visitors['group'] == 'B'][['date', 'visitors']]\n",
    "visitorsBDaily.columns = ['date', 'visitorsPerDateB']\n",
    "\n",
    "visitorsBCummulative = visitorsBDaily.apply(lambda x: visitorsBDaily[visitorsBDaily['date'] <= x['date']].agg({'date': 'max', 'visitorsPerDateB': 'sum'}), axis=1,)\n",
    "visitorsBCummulative.columns = ['date', 'visitorsCummulativeB']\n",
    "\n",
    "ordersADaily = (orders[orders['group'] == 'A'][['date', 'transaction_id', 'visitor_id', 'revenue']].groupby('date', as_index=False).agg({'transaction_id': pd.Series.nunique, 'revenue': 'sum'}))\n",
    "ordersADaily.columns = ['date', 'ordersPerDateA', 'revenuePerDateA']\n",
    "\n",
    "ordersACummulative = ordersADaily.apply(lambda x: ordersADaily[ordersADaily['date'] <= x['date']].agg({'date': 'max', 'ordersPerDateA': 'sum', 'revenuePerDateA': 'sum'}), axis=1,).sort_values(by=['date'])\n",
    "ordersACummulative.columns = ['date', 'ordersCummulativeA', 'revenueCummulativeA',]\n",
    "\n",
    "ordersBDaily = (orders[orders['group'] == 'B'][['date', 'transaction_id', 'visitor_id', 'revenue']].groupby('date', as_index=False).agg({'transaction_id': pd.Series.nunique, 'revenue': 'sum'}))\n",
    "ordersBDaily.columns = ['date', 'ordersPerDateB', 'revenuePerDateB']\n",
    "\n",
    "ordersBCummulative = ordersBDaily.apply(lambda x: ordersBDaily[ordersBDaily['date'] <= x['date']].agg({'date': 'max', 'ordersPerDateB': 'sum', 'revenuePerDateB': 'sum'}), axis=1,).sort_values(by=['date'])\n",
    "ordersBCummulative.columns = ['date', 'ordersCummulativeB', 'revenueCummulativeB',]\n",
    "# Объединим все данные в одну таблицу\n",
    "data = (\n",
    "    ordersADaily.merge(\n",
    "        ordersBDaily, left_on='date', right_on='date', how='left'\n",
    "    )\n",
    "    .merge(ordersACummulative, left_on='date', right_on='date', how='left')\n",
    "    .merge(ordersBCummulative, left_on='date', right_on='date', how='left')\n",
    "    .merge(visitorsADaily, left_on='date', right_on='date', how='left')\n",
    "    .merge(visitorsBDaily, left_on='date', right_on='date', how='left')\n",
    "    .merge(visitorsACummulative, left_on='date', right_on='date', how='left')\n",
    "    .merge(visitorsBCummulative, left_on='date', right_on='date', how='left')\n",
    ")\n",
    "\n",
    "data.head(5)"
   ]
  },
  {
   "cell_type": "code",
   "execution_count": 36,
   "metadata": {},
   "outputs": [
    {
     "data": {
      "text/plain": [
       "'p-value = 0.017'"
      ]
     },
     "metadata": {},
     "output_type": "display_data"
    },
    {
     "data": {
      "text/plain": [
       "'Относительный показатель группы B к А = 0.138'"
      ]
     },
     "metadata": {},
     "output_type": "display_data"
    }
   ],
   "source": [
    "# Создадим переменные, где укажем число совершенных заказов для пользователей, которые заказывали хотя бы 1 раз\n",
    "ordersByUsersA = (orders[orders['group'] == 'A'].groupby('visitor_id', as_index=False).agg({'transaction_id': pd.Series.nunique}))\n",
    "ordersByUsersA.columns = ['visitor_id', 'orders']\n",
    "\n",
    "ordersByUsersB = (orders[orders['group'] == 'B'].groupby('visitor_id', as_index=False).agg({'transaction_id': pd.Series.nunique}))\n",
    "ordersByUsersB.columns = ['visitor_id', 'orders'] \n",
    "\n",
    "# Передадим аргумент, сообщающий, что объекты Series нужно объединить по строкам. Нули для пользователей, которые ничего не заказывали\n",
    "sampleA = pd.concat([ordersByUsersA['orders'],pd.Series(0, index=np.arange(data['visitorsPerDateA'].sum() - len(ordersByUsersA['orders'])), name='orders')],axis=0)\n",
    "sampleB = pd.concat([ordersByUsersB['orders'],pd.Series(0, index=np.arange(data['visitorsPerDateB'].sum() - len(ordersByUsersB['orders'])), name='orders')],axis=0)\n",
    "\n",
    "# Зададим уровень значимости 5%\n",
    "alpha=0.05\n",
    "\n",
    "display(\"p-value = {0:.3f}\".format(st.mannwhitneyu(sampleA, sampleB)[1]))\n",
    "display(\"Относительный показатель группы B к А = {0:.3f}\".format(sampleB.mean() / sampleA.mean() - 1))"
   ]
  },
  {
   "cell_type": "markdown",
   "metadata": {},
   "source": [
    "***На основе полученных данных можно отметить, что:***\n",
    "\n",
    "По «сырым» данным различия в среднем числе заказов групп A и B есть. Р-value составляет 0.017, что меньше 0.05. Значит, нулевую гипотезу о том, что статистически значимых различий в среднем числе заказов между группами нет, отвергаем.\n",
    "\n",
    "Относительный выигрыш группы B равен 13,8%."
   ]
  },
  {
   "cell_type": "markdown",
   "metadata": {},
   "source": [
    "#### Посчитаем статистическую значимость различий в среднем чеке заказа между группами по «сырым» данным"
   ]
  },
  {
   "cell_type": "code",
   "execution_count": 37,
   "metadata": {},
   "outputs": [
    {
     "data": {
      "text/plain": [
       "'p-value = 0.729'"
      ]
     },
     "metadata": {},
     "output_type": "display_data"
    },
    {
     "data": {
      "text/plain": [
       "'Относительный показатель группы B к А = 0.259'"
      ]
     },
     "metadata": {},
     "output_type": "display_data"
    }
   ],
   "source": [
    "# Нулевая гипотеза: различий в среднем чеке между группами нет. Альтернативная: различия в среднем чеке между группами есть \n",
    "# Зададим уровень значимости 5%\n",
    "alpha=0.05\n",
    "# Найдём относительные различия в среднем чеке между группами\n",
    "display(\"p-value = {0:.3f}\".format(st.mannwhitneyu(orders[orders['group']=='A']['revenue'], orders[orders['group']=='B']['revenue'])[1]))\n",
    "display(\"Относительный показатель группы B к А = {0:.3f}\".format(orders[orders['group']=='B']['revenue'].mean()/orders[orders['group']=='A']['revenue'].mean()-1)) "
   ]
  },
  {
   "cell_type": "markdown",
   "metadata": {},
   "source": [
    "***На основе полученных данных можно отметить, что:***\n",
    "\n",
    "P-value составляет 0,729, это больше 0.05. Значит, нет причин отвергать нулевую гипотезу и считать, что в среднем чеке есть различия. \n",
    "\n",
    "И при этом мы средний чек группы B на 25,9% выше среднего чека группы A. Если p-value больше alpha, средний чек группы B равен среднему чеку группы A. Значит, что скорее всего такие различия получены случайным образом, из-за наличия аномалий, над которыми нужно поработать. "
   ]
  },
  {
   "cell_type": "markdown",
   "metadata": {},
   "source": [
    "#### Посчитаем статистическую значимость различий в среднем количестве заказов на посетителя между группами по «очищенным» данным"
   ]
  },
  {
   "cell_type": "markdown",
   "metadata": {},
   "source": [
    "Примем за аномальных пользователей тех, кто совершил больше 2 заказов или совершил заказ дороже 28 000 рублей. Сделаем срезы пользователей с числом заказов больше 2 — usersWithManyOrders и пользователей, совершивших заказы дороже 28 000 — usersWithExpensiveOrders. Объединим их в таблице abnormalUsers. "
   ]
  },
  {
   "cell_type": "code",
   "execution_count": 38,
   "metadata": {},
   "outputs": [
    {
     "data": {
      "text/plain": [
       "1099    148427295\n",
       "18      199603092\n",
       "928     204675465\n",
       "23      237748145\n",
       "37      249864742\n",
       "Name: visitor_id, dtype: int64"
      ]
     },
     "metadata": {},
     "output_type": "display_data"
    },
    {
     "data": {
      "text/plain": [
       "74"
      ]
     },
     "metadata": {},
     "output_type": "display_data"
    }
   ],
   "source": [
    "# Сформулируем гипотезы. Нулевая: различий в среднем количестве заказов между группами нет. Альтернативная: различия в среднем между группами есть.\n",
    "usersWithManyOrders = pd.concat([ordersByUsersA[ordersByUsersA['orders'] > 2]['visitor_id'], ordersByUsersB[ordersByUsersB['orders'] > 2]['visitor_id'],], axis=0,)\n",
    "usersWithExpensiveOrders = orders[orders['revenue'] > 28000]['visitor_id']\n",
    "abnormalUsers = (pd.concat([usersWithManyOrders, usersWithExpensiveOrders], axis=0).drop_duplicates().sort_values())\n",
    "display(abnormalUsers.head(5))\n",
    "display(abnormalUsers.shape[0]) "
   ]
  },
  {
   "cell_type": "markdown",
   "metadata": {},
   "source": [
    "***На основе полученных данных можно отметить, что:***\n",
    "\n",
    "У нас есть 74 аномальных пользователя."
   ]
  },
  {
   "cell_type": "code",
   "execution_count": 39,
   "metadata": {},
   "outputs": [
    {
     "data": {
      "text/plain": [
       "'p-value = 0.013'"
      ]
     },
     "metadata": {},
     "output_type": "display_data"
    },
    {
     "data": {
      "text/plain": [
       "'Относительный показатель группы B к А = 0.173'"
      ]
     },
     "metadata": {},
     "output_type": "display_data"
    }
   ],
   "source": [
    "# Узнаем, как действия аномальных пользователей повлияли на результаты теста. \n",
    "# Посчитаем статистическую значимость различий в среднем количестве заказов между группами теста по очищенным данным. \n",
    "# Сначала подготовим выборки количества заказов по пользователям по группам теста:\n",
    "\n",
    "sampleAFiltered = pd.concat([ordersByUsersA[np.logical_not(ordersByUsersA['visitor_id'].isin(abnormalUsers))]['orders'],pd.Series(0,index=np.arange(data['visitorsPerDateA'].sum() - len(ordersByUsersA['orders'])), name='orders',) ,], axis=0,)\n",
    "\n",
    "sampleBFiltered = pd.concat([ordersByUsersB[np.logical_not(ordersByUsersB['visitor_id'].isin(abnormalUsers))]['orders'],pd.Series(0, index=np.arange(data['visitorsPerDateB'].sum() - len(ordersByUsersB['orders'])), name='orders',), ], axis=0,) \n",
    "\n",
    "# Применим статистический критерий Манна-Уитни к полученным выборкам\n",
    "# Зададим уровень значимости 5%\n",
    "alpha=0.05\n",
    "display(\"p-value = {0:.3f}\".format(st.mannwhitneyu(sampleAFiltered, sampleBFiltered)[1]))\n",
    "display(\"Относительный показатель группы B к А = {0:.3f}\".format(sampleBFiltered.mean()/sampleAFiltered.mean()-1))     "
   ]
  },
  {
   "cell_type": "markdown",
   "metadata": {},
   "source": [
    "***На основе полученных данных можно отметить, что:***\n",
    "\n",
    "Сильных изменений не произошло. P-value составляет 0,013, что меньше, чем 0.05. Значит, нулевую гипотезу о том, что статистически значимых различий в среднем числе заказов между группами нет, отвергаем.\n",
    "\n",
    "Относительный выигрыш группы B равен 17,3% (с \"сырыми\" данными было 13,8%)."
   ]
  },
  {
   "cell_type": "markdown",
   "metadata": {},
   "source": [
    "#### Посчитаем статистическую значимость различий в среднем чеке заказа между группами по «очищенным» данным"
   ]
  },
  {
   "cell_type": "code",
   "execution_count": 40,
   "metadata": {},
   "outputs": [
    {
     "data": {
      "text/plain": [
       "'p-value = 0.738'"
      ]
     },
     "metadata": {},
     "output_type": "display_data"
    },
    {
     "data": {
      "text/plain": [
       "'Относительный показатель группы B к А = -0.020'"
      ]
     },
     "metadata": {},
     "output_type": "display_data"
    }
   ],
   "source": [
    "# Нулевая гипотеза: различий в среднем чеке между группами нет. Альтернативная: различия в среднем чеке между группами есть \n",
    "# Посмотрим, произошло ли что-нибудь с результатами по среднему чеку.\n",
    "# Зададим уровень значимости 5%\n",
    "alpha=0.05\n",
    "display(\"p-value = {0:.3f}\".format(st.mannwhitneyu(orders[np.logical_and(orders['group'] == 'A', np.logical_not(orders['visitor_id'].isin(abnormalUsers)),)]['revenue'], orders[np.logical_and(orders['group'] == 'B', np.logical_not(orders['visitor_id'].isin(abnormalUsers)),)]['revenue'],)[1]))\n",
    "\n",
    "display(\"Относительный показатель группы B к А = {0:.3f}\".format(orders[np.logical_and(orders['group'] == 'B', np.logical_not(orders['visitor_id'].isin(abnormalUsers)), )]['revenue'].mean() / orders[np.logical_and(orders['group'] == 'A', np.logical_not(orders['visitor_id'].isin(abnormalUsers)),)]['revenue'].mean() - 1)) "
   ]
  },
  {
   "cell_type": "markdown",
   "metadata": {},
   "source": [
    "***На основе полученных данных можно отметить, что:***\n",
    "\n",
    "P-value составляет 0,738, что больше 0.05. Значит, нет причин отвергать нулевую гипотезу и считать, что в среднем чеке есть различия.\n",
    "\n",
    "Далее идут изменения: если в случае с \"сырыми\" данными средний чек группы B был на 25,9% выше среднего чека группы A (что явно было из-за аномалии), то теперь все наоборот: средний чек группы А на 2% выше! Следовательно, на средний чек до этого точно влияли \"аномальные\" данные и вбросы, которые мы убрали в дальнейшем."
   ]
  },
  {
   "cell_type": "markdown",
   "metadata": {},
   "source": [
    "### Вывод"
   ]
  },
  {
   "cell_type": "markdown",
   "metadata": {},
   "source": [
    "**-При построении кумулятивных графиков мы выяснили, что:**\n",
    "\n",
    "1.Выручка для обеих групп все время растет с небольшими перепадами. При этом выручка в группе В практически подавляющее большинство дней в рассматриваемом периоде выше, чем в группе А. А вот рост для группы А более равномерный, чем для группы В.\n",
    "\n",
    "2.18.08.2019 в группе В произошел аномально высокий по сумме заказ.\n",
    "\n",
    "3.Кумулятивный cредний чек для обеих групп то рос, то падал, то снова рос, следовательно, рост был неравномерным.\n",
    "\n",
    "**-При построении точечных графиков мы выяснили, что:**\n",
    "\n",
    "1.Самое большое количество пользователей соврешает по 1 заказу. Гораздо реже пользователи совершают более 2 заказов. Хотя были и аномальные единичные случаи с 8,9,11 заказами.\n",
    "\n",
    "2.Сразу были заметны аномальные заказы на сумму свыше 1.2 млн, а так же 200 тыс., которые мы убрали из графика. \n",
    "\n",
    "**-При посчете статистической значимости различий в среднем количестве заказов на посетителя между группами по «сырым» и \"очищенным\" данным мы выяснили, что:**\n",
    "\n",
    "1.Мы нашли 74 аномальных пользователя.\n",
    "\n",
    "2.И по «сырым», и по \"очищенным\" данным различия в среднем числе заказов групп A и B есть. В \"сырых\" данных Р-value составляет 0.017, в \"очищенных\" - 0,013 - разница небольшая. Нулевую гипотезу о том, что статистически значимых различий в среднем числе заказов между группами нет, мы отвергли, так как различия есть. \n",
    "\n",
    "3.Относительный выигрыш группы B в \"очищенных\" данных равен 17,3% (с \"сырыми\" данными было 13,8%).\n",
    "\n",
    "**-При посчете статистической значимости различий в среднем чеке заказа между группами по «сырым» и \"очищенным\" данным мы выяснили, что:**\n",
    "\n",
    "1.Нет причин отвергать нулевую гипотезу и считать, что в среднем чеке есть различия, так как р-value в \"сырых\" данных составляет 0,729, а в \"очищенных\" - 0,738, что больше 0.05.\n",
    "\n",
    "2.Далее мы увидели изменения: если в случае с \"сырыми\" данными средний чек группы B был на 25,9% выше среднего чека группы A, то теперь все наоборот: средний чек группы А на 2% выше! Следовательно, на средний чек до этого влияли \"аномальные\" данные и вбросы, которые мы убрали в дальнейшем. На самом деле средний чек группы В вмего на 2% ниже, чем у группы А, что не считается  большой разницей.\n",
    "\n",
    "**Исходя из всех выводов, я считаю, что следует остановить тест и зафиксировать победу за группой В, так как показатели в этой группе, в целом выше, чем в группе А.**"
   ]
  }
 ],
 "metadata": {
  "ExecuteTimeLog": [
   {
    "duration": 1399,
    "start_time": "2023-07-25T13:39:00.140Z"
   },
   {
    "duration": 182,
    "start_time": "2023-07-25T13:43:27.546Z"
   },
   {
    "duration": 14,
    "start_time": "2023-07-25T15:18:35.019Z"
   },
   {
    "duration": 16,
    "start_time": "2023-07-25T15:18:49.535Z"
   },
   {
    "duration": 14,
    "start_time": "2023-07-25T15:21:35.922Z"
   },
   {
    "duration": 16,
    "start_time": "2023-07-25T15:21:37.292Z"
   },
   {
    "duration": 149,
    "start_time": "2023-07-25T15:27:54.950Z"
   },
   {
    "duration": 14,
    "start_time": "2023-07-25T15:28:06.926Z"
   },
   {
    "duration": 10,
    "start_time": "2023-07-25T15:28:31.223Z"
   },
   {
    "duration": 8,
    "start_time": "2023-07-25T15:28:52.823Z"
   },
   {
    "duration": 5,
    "start_time": "2023-07-25T15:30:02.858Z"
   },
   {
    "duration": 18,
    "start_time": "2023-07-25T15:31:37.034Z"
   },
   {
    "duration": 12,
    "start_time": "2023-07-25T15:32:01.220Z"
   },
   {
    "duration": 15,
    "start_time": "2023-07-25T15:32:07.656Z"
   },
   {
    "duration": 14,
    "start_time": "2023-07-25T15:32:18.352Z"
   },
   {
    "duration": 15,
    "start_time": "2023-07-25T15:33:36.110Z"
   },
   {
    "duration": 14,
    "start_time": "2023-07-25T15:33:36.849Z"
   },
   {
    "duration": 8,
    "start_time": "2023-07-25T15:33:40.119Z"
   },
   {
    "duration": 17,
    "start_time": "2023-07-25T15:33:49.443Z"
   },
   {
    "duration": 16,
    "start_time": "2023-07-25T15:33:53.161Z"
   },
   {
    "duration": 8,
    "start_time": "2023-07-25T15:34:37.369Z"
   },
   {
    "duration": 8,
    "start_time": "2023-07-25T15:41:41.030Z"
   },
   {
    "duration": 18,
    "start_time": "2023-07-25T15:42:21.411Z"
   },
   {
    "duration": 13,
    "start_time": "2023-07-25T15:42:59.342Z"
   },
   {
    "duration": 12,
    "start_time": "2023-07-25T15:43:30.435Z"
   },
   {
    "duration": 7,
    "start_time": "2023-07-25T15:44:01.144Z"
   },
   {
    "duration": 12,
    "start_time": "2023-07-25T15:45:23.438Z"
   },
   {
    "duration": 2643,
    "start_time": "2023-07-25T15:55:56.222Z"
   },
   {
    "duration": 13,
    "start_time": "2023-07-25T15:56:13.524Z"
   },
   {
    "duration": 16,
    "start_time": "2023-07-25T15:56:40.531Z"
   },
   {
    "duration": 6,
    "start_time": "2023-07-25T16:01:00.515Z"
   },
   {
    "duration": 17,
    "start_time": "2023-07-25T16:01:13.315Z"
   },
   {
    "duration": 10,
    "start_time": "2023-07-25T16:02:01.210Z"
   },
   {
    "duration": 9,
    "start_time": "2023-07-25T16:02:15.563Z"
   },
   {
    "duration": 4,
    "start_time": "2023-07-25T16:02:18.155Z"
   },
   {
    "duration": 10,
    "start_time": "2023-07-25T16:02:30.847Z"
   },
   {
    "duration": 11,
    "start_time": "2023-07-25T16:04:58.145Z"
   },
   {
    "duration": 10,
    "start_time": "2023-07-25T16:05:03.842Z"
   },
   {
    "duration": 11,
    "start_time": "2023-07-25T16:05:09.454Z"
   },
   {
    "duration": 13,
    "start_time": "2023-07-25T16:05:15.468Z"
   },
   {
    "duration": 12,
    "start_time": "2023-07-25T16:06:27.893Z"
   },
   {
    "duration": 1546,
    "start_time": "2023-07-27T14:05:51.603Z"
   },
   {
    "duration": 263,
    "start_time": "2023-07-27T14:05:53.162Z"
   },
   {
    "duration": 18,
    "start_time": "2023-07-27T14:05:53.427Z"
   },
   {
    "duration": 48,
    "start_time": "2023-07-27T14:05:53.451Z"
   },
   {
    "duration": 68,
    "start_time": "2023-07-27T14:05:53.501Z"
   },
   {
    "duration": 42,
    "start_time": "2023-07-27T14:05:53.572Z"
   },
   {
    "duration": 68,
    "start_time": "2023-07-27T14:05:53.616Z"
   },
   {
    "duration": 25,
    "start_time": "2023-07-27T14:05:53.685Z"
   },
   {
    "duration": 39,
    "start_time": "2023-07-27T14:05:53.712Z"
   },
   {
    "duration": 50,
    "start_time": "2023-07-27T14:05:53.753Z"
   },
   {
    "duration": 105,
    "start_time": "2023-07-27T14:05:53.805Z"
   },
   {
    "duration": 94,
    "start_time": "2023-07-27T14:05:53.912Z"
   },
   {
    "duration": 97,
    "start_time": "2023-07-27T14:05:54.008Z"
   },
   {
    "duration": 73,
    "start_time": "2023-07-27T14:05:54.107Z"
   },
   {
    "duration": 63,
    "start_time": "2023-07-27T14:05:54.182Z"
   },
   {
    "duration": 61,
    "start_time": "2023-07-27T14:05:54.247Z"
   },
   {
    "duration": 60,
    "start_time": "2023-07-27T14:05:54.310Z"
   },
   {
    "duration": 53,
    "start_time": "2023-07-27T14:05:54.372Z"
   },
   {
    "duration": 15,
    "start_time": "2023-07-27T14:07:07.297Z"
   },
   {
    "duration": 17,
    "start_time": "2023-07-27T15:18:01.413Z"
   },
   {
    "duration": 47,
    "start_time": "2023-07-27T15:18:16.666Z"
   },
   {
    "duration": 8,
    "start_time": "2023-07-27T15:30:54.070Z"
   },
   {
    "duration": 31,
    "start_time": "2023-07-27T15:31:40.554Z"
   },
   {
    "duration": 156,
    "start_time": "2023-07-27T15:32:42.101Z"
   },
   {
    "duration": 50,
    "start_time": "2023-07-27T15:34:14.239Z"
   },
   {
    "duration": 24,
    "start_time": "2023-07-27T15:35:55.290Z"
   },
   {
    "duration": 146,
    "start_time": "2023-07-27T15:36:58.690Z"
   },
   {
    "duration": 206,
    "start_time": "2023-07-27T15:37:15.446Z"
   },
   {
    "duration": 17,
    "start_time": "2023-07-27T15:37:51.065Z"
   },
   {
    "duration": 63,
    "start_time": "2023-07-27T15:40:59.411Z"
   },
   {
    "duration": 49,
    "start_time": "2023-07-27T15:42:34.695Z"
   },
   {
    "duration": 420,
    "start_time": "2023-07-27T15:42:52.298Z"
   },
   {
    "duration": 427,
    "start_time": "2023-07-27T15:43:13.442Z"
   },
   {
    "duration": 430,
    "start_time": "2023-07-27T15:44:14.359Z"
   },
   {
    "duration": 422,
    "start_time": "2023-07-27T15:46:18.046Z"
   },
   {
    "duration": 360,
    "start_time": "2023-07-27T15:46:24.741Z"
   },
   {
    "duration": 373,
    "start_time": "2023-07-27T15:47:13.399Z"
   },
   {
    "duration": 287,
    "start_time": "2023-07-27T15:47:35.965Z"
   },
   {
    "duration": 295,
    "start_time": "2023-07-27T15:48:00.539Z"
   },
   {
    "duration": 302,
    "start_time": "2023-07-27T15:48:43.742Z"
   },
   {
    "duration": 1840,
    "start_time": "2023-07-30T19:14:29.498Z"
   },
   {
    "duration": 399,
    "start_time": "2023-07-30T19:14:31.340Z"
   },
   {
    "duration": 13,
    "start_time": "2023-07-30T19:14:31.741Z"
   },
   {
    "duration": 86,
    "start_time": "2023-07-30T19:14:31.755Z"
   },
   {
    "duration": 35,
    "start_time": "2023-07-30T19:14:31.843Z"
   },
   {
    "duration": 88,
    "start_time": "2023-07-30T19:14:31.880Z"
   },
   {
    "duration": 112,
    "start_time": "2023-07-30T19:14:31.971Z"
   },
   {
    "duration": 68,
    "start_time": "2023-07-30T19:14:32.085Z"
   },
   {
    "duration": 15,
    "start_time": "2023-07-30T19:14:32.155Z"
   },
   {
    "duration": 162,
    "start_time": "2023-07-30T19:14:32.178Z"
   },
   {
    "duration": 26,
    "start_time": "2023-07-30T19:14:32.342Z"
   },
   {
    "duration": 94,
    "start_time": "2023-07-30T19:14:32.370Z"
   },
   {
    "duration": 98,
    "start_time": "2023-07-30T19:14:32.467Z"
   },
   {
    "duration": 108,
    "start_time": "2023-07-30T19:14:32.569Z"
   },
   {
    "duration": 130,
    "start_time": "2023-07-30T19:14:32.679Z"
   },
   {
    "duration": 69,
    "start_time": "2023-07-30T19:14:32.811Z"
   },
   {
    "duration": 70,
    "start_time": "2023-07-30T19:14:32.887Z"
   },
   {
    "duration": 30,
    "start_time": "2023-07-30T19:14:32.959Z"
   },
   {
    "duration": 75,
    "start_time": "2023-07-30T19:14:32.991Z"
   },
   {
    "duration": 458,
    "start_time": "2023-07-30T19:14:33.069Z"
   },
   {
    "duration": 429,
    "start_time": "2023-07-30T19:14:33.529Z"
   },
   {
    "duration": 325,
    "start_time": "2023-07-30T19:39:47.074Z"
   },
   {
    "duration": 230,
    "start_time": "2023-07-30T19:40:47.477Z"
   },
   {
    "duration": 378,
    "start_time": "2023-07-30T19:57:20.751Z"
   },
   {
    "duration": 319,
    "start_time": "2023-07-30T19:57:33.692Z"
   },
   {
    "duration": 366,
    "start_time": "2023-07-30T20:00:05.312Z"
   },
   {
    "duration": 412,
    "start_time": "2023-07-30T20:12:10.988Z"
   },
   {
    "duration": 280,
    "start_time": "2023-07-30T20:12:39.959Z"
   },
   {
    "duration": 298,
    "start_time": "2023-07-30T20:13:25.280Z"
   },
   {
    "duration": 231,
    "start_time": "2023-07-30T20:15:44.859Z"
   },
   {
    "duration": 229,
    "start_time": "2023-07-30T20:16:42.240Z"
   },
   {
    "duration": 208,
    "start_time": "2023-07-30T20:16:45.908Z"
   },
   {
    "duration": 273,
    "start_time": "2023-07-30T20:17:30.285Z"
   },
   {
    "duration": 243,
    "start_time": "2023-07-30T20:17:45.856Z"
   },
   {
    "duration": 249,
    "start_time": "2023-07-30T20:24:52.409Z"
   },
   {
    "duration": 335,
    "start_time": "2023-07-30T20:48:39.085Z"
   },
   {
    "duration": 345,
    "start_time": "2023-07-30T20:48:53.789Z"
   },
   {
    "duration": 376,
    "start_time": "2023-07-30T20:50:15.766Z"
   },
   {
    "duration": 337,
    "start_time": "2023-07-30T20:51:16.514Z"
   },
   {
    "duration": 6,
    "start_time": "2023-07-30T21:13:15.611Z"
   },
   {
    "duration": 11,
    "start_time": "2023-07-30T21:13:23.836Z"
   },
   {
    "duration": 14,
    "start_time": "2023-07-30T21:13:45.184Z"
   },
   {
    "duration": 11,
    "start_time": "2023-07-30T21:14:08.636Z"
   },
   {
    "duration": 242,
    "start_time": "2023-07-30T21:15:36.836Z"
   },
   {
    "duration": 145,
    "start_time": "2023-07-30T21:17:14.399Z"
   },
   {
    "duration": 6,
    "start_time": "2023-07-30T21:28:35.463Z"
   },
   {
    "duration": 5,
    "start_time": "2023-07-30T21:38:05.764Z"
   },
   {
    "duration": 180,
    "start_time": "2023-07-30T21:46:26.386Z"
   },
   {
    "duration": 149,
    "start_time": "2023-07-30T21:46:37.886Z"
   },
   {
    "duration": 161,
    "start_time": "2023-07-30T21:47:40.053Z"
   },
   {
    "duration": 198,
    "start_time": "2023-07-30T21:48:35.917Z"
   },
   {
    "duration": 183,
    "start_time": "2023-07-30T21:49:12.113Z"
   },
   {
    "duration": 192,
    "start_time": "2023-07-30T21:49:38.805Z"
   },
   {
    "duration": 183,
    "start_time": "2023-07-30T21:50:43.313Z"
   },
   {
    "duration": 174,
    "start_time": "2023-07-30T21:52:31.261Z"
   },
   {
    "duration": 5,
    "start_time": "2023-07-30T21:57:38.841Z"
   },
   {
    "duration": 6,
    "start_time": "2023-07-30T22:01:33.787Z"
   },
   {
    "duration": 1460,
    "start_time": "2023-07-31T09:26:14.109Z"
   },
   {
    "duration": 215,
    "start_time": "2023-07-31T09:26:15.572Z"
   },
   {
    "duration": 15,
    "start_time": "2023-07-31T09:26:15.789Z"
   },
   {
    "duration": 20,
    "start_time": "2023-07-31T09:26:15.806Z"
   },
   {
    "duration": 15,
    "start_time": "2023-07-31T09:26:15.828Z"
   },
   {
    "duration": 16,
    "start_time": "2023-07-31T09:26:15.845Z"
   },
   {
    "duration": 16,
    "start_time": "2023-07-31T09:26:15.863Z"
   },
   {
    "duration": 18,
    "start_time": "2023-07-31T09:26:15.881Z"
   },
   {
    "duration": 6,
    "start_time": "2023-07-31T09:26:15.901Z"
   },
   {
    "duration": 13,
    "start_time": "2023-07-31T09:26:15.911Z"
   },
   {
    "duration": 14,
    "start_time": "2023-07-31T09:26:15.925Z"
   },
   {
    "duration": 15,
    "start_time": "2023-07-31T09:26:15.940Z"
   },
   {
    "duration": 30,
    "start_time": "2023-07-31T09:26:15.957Z"
   },
   {
    "duration": 14,
    "start_time": "2023-07-31T09:26:15.992Z"
   },
   {
    "duration": 9,
    "start_time": "2023-07-31T09:26:16.008Z"
   },
   {
    "duration": 12,
    "start_time": "2023-07-31T09:26:16.018Z"
   },
   {
    "duration": 5,
    "start_time": "2023-07-31T09:26:16.032Z"
   },
   {
    "duration": 39,
    "start_time": "2023-07-31T09:26:16.039Z"
   },
   {
    "duration": 22,
    "start_time": "2023-07-31T09:26:16.080Z"
   },
   {
    "duration": 306,
    "start_time": "2023-07-31T09:26:16.104Z"
   },
   {
    "duration": 307,
    "start_time": "2023-07-31T09:26:16.411Z"
   },
   {
    "duration": 220,
    "start_time": "2023-07-31T09:26:16.720Z"
   },
   {
    "duration": 394,
    "start_time": "2023-07-31T09:26:16.941Z"
   },
   {
    "duration": 248,
    "start_time": "2023-07-31T09:26:17.337Z"
   },
   {
    "duration": 353,
    "start_time": "2023-07-31T09:26:17.588Z"
   },
   {
    "duration": 12,
    "start_time": "2023-07-31T09:26:17.942Z"
   },
   {
    "duration": 165,
    "start_time": "2023-07-31T09:26:17.955Z"
   },
   {
    "duration": 5,
    "start_time": "2023-07-31T09:26:18.123Z"
   },
   {
    "duration": 9,
    "start_time": "2023-07-31T09:26:18.129Z"
   },
   {
    "duration": 178,
    "start_time": "2023-07-31T09:26:18.139Z"
   },
   {
    "duration": 160,
    "start_time": "2023-07-31T09:26:18.319Z"
   },
   {
    "duration": 7,
    "start_time": "2023-07-31T09:26:18.482Z"
   },
   {
    "duration": 12,
    "start_time": "2023-07-31T09:26:18.491Z"
   },
   {
    "duration": 293,
    "start_time": "2023-07-31T09:49:52.272Z"
   },
   {
    "duration": 244,
    "start_time": "2023-07-31T09:51:24.067Z"
   },
   {
    "duration": 239,
    "start_time": "2023-07-31T10:02:18.417Z"
   },
   {
    "duration": 251,
    "start_time": "2023-07-31T10:02:29.273Z"
   },
   {
    "duration": 231,
    "start_time": "2023-07-31T10:02:36.148Z"
   },
   {
    "duration": 248,
    "start_time": "2023-07-31T10:04:03.218Z"
   },
   {
    "duration": 152,
    "start_time": "2023-07-31T10:20:38.880Z"
   },
   {
    "duration": 156,
    "start_time": "2023-07-31T10:21:29.862Z"
   },
   {
    "duration": 163,
    "start_time": "2023-07-31T10:22:20.949Z"
   },
   {
    "duration": 146,
    "start_time": "2023-07-31T10:22:32.753Z"
   },
   {
    "duration": 161,
    "start_time": "2023-07-31T10:24:24.367Z"
   },
   {
    "duration": 175,
    "start_time": "2023-07-31T10:24:38.357Z"
   },
   {
    "duration": 176,
    "start_time": "2023-07-31T10:25:26.873Z"
   },
   {
    "duration": 174,
    "start_time": "2023-07-31T10:25:48.548Z"
   },
   {
    "duration": 175,
    "start_time": "2023-07-31T10:26:42.187Z"
   },
   {
    "duration": 197,
    "start_time": "2023-07-31T10:26:50.087Z"
   },
   {
    "duration": 170,
    "start_time": "2023-07-31T10:30:52.605Z"
   },
   {
    "duration": 10,
    "start_time": "2023-07-31T10:43:33.562Z"
   },
   {
    "duration": 145,
    "start_time": "2023-07-31T10:43:52.845Z"
   },
   {
    "duration": 10,
    "start_time": "2023-07-31T10:44:04.509Z"
   },
   {
    "duration": 10,
    "start_time": "2023-07-31T10:44:23.965Z"
   },
   {
    "duration": 10,
    "start_time": "2023-07-31T10:48:12.600Z"
   },
   {
    "duration": 1288,
    "start_time": "2023-07-31T10:58:28.346Z"
   },
   {
    "duration": 1170,
    "start_time": "2023-07-31T10:59:17.894Z"
   },
   {
    "duration": 1088,
    "start_time": "2023-07-31T10:59:27.554Z"
   },
   {
    "duration": 1268,
    "start_time": "2023-07-31T10:59:51.271Z"
   },
   {
    "duration": 16,
    "start_time": "2023-07-31T11:01:49.052Z"
   },
   {
    "duration": 150,
    "start_time": "2023-07-31T11:02:14.904Z"
   },
   {
    "duration": 14,
    "start_time": "2023-07-31T11:02:29.704Z"
   },
   {
    "duration": 12,
    "start_time": "2023-07-31T11:03:04.169Z"
   },
   {
    "duration": 95,
    "start_time": "2023-07-31T11:06:13.618Z"
   },
   {
    "duration": 11,
    "start_time": "2023-07-31T11:06:20.594Z"
   },
   {
    "duration": 10,
    "start_time": "2023-07-31T11:06:36.187Z"
   },
   {
    "duration": 68,
    "start_time": "2023-07-31T11:06:47.670Z"
   },
   {
    "duration": 12,
    "start_time": "2023-07-31T11:06:54.340Z"
   },
   {
    "duration": 11,
    "start_time": "2023-07-31T11:07:20.803Z"
   },
   {
    "duration": 8,
    "start_time": "2023-07-31T11:10:33.049Z"
   },
   {
    "duration": 14,
    "start_time": "2023-07-31T11:12:45.407Z"
   },
   {
    "duration": 32,
    "start_time": "2023-07-31T11:12:50.849Z"
   },
   {
    "duration": 30,
    "start_time": "2023-07-31T11:13:32.111Z"
   },
   {
    "duration": 14,
    "start_time": "2023-07-31T11:23:11.752Z"
   },
   {
    "duration": 14,
    "start_time": "2023-07-31T11:23:46.982Z"
   },
   {
    "duration": 24,
    "start_time": "2023-07-31T11:24:42.563Z"
   },
   {
    "duration": 1310,
    "start_time": "2023-07-31T12:11:01.545Z"
   },
   {
    "duration": 94,
    "start_time": "2023-07-31T12:11:02.857Z"
   },
   {
    "duration": 11,
    "start_time": "2023-07-31T12:11:02.952Z"
   },
   {
    "duration": 35,
    "start_time": "2023-07-31T12:11:02.965Z"
   },
   {
    "duration": 37,
    "start_time": "2023-07-31T12:11:03.002Z"
   },
   {
    "duration": 46,
    "start_time": "2023-07-31T12:11:03.041Z"
   },
   {
    "duration": 44,
    "start_time": "2023-07-31T12:11:03.089Z"
   },
   {
    "duration": 60,
    "start_time": "2023-07-31T12:11:03.134Z"
   },
   {
    "duration": 25,
    "start_time": "2023-07-31T12:11:03.196Z"
   },
   {
    "duration": 42,
    "start_time": "2023-07-31T12:11:03.222Z"
   },
   {
    "duration": 42,
    "start_time": "2023-07-31T12:11:03.266Z"
   },
   {
    "duration": 24,
    "start_time": "2023-07-31T12:11:03.310Z"
   },
   {
    "duration": 19,
    "start_time": "2023-07-31T12:11:03.336Z"
   },
   {
    "duration": 31,
    "start_time": "2023-07-31T12:11:03.358Z"
   },
   {
    "duration": 23,
    "start_time": "2023-07-31T12:11:03.391Z"
   },
   {
    "duration": 38,
    "start_time": "2023-07-31T12:11:03.415Z"
   },
   {
    "duration": 43,
    "start_time": "2023-07-31T12:11:03.454Z"
   },
   {
    "duration": 41,
    "start_time": "2023-07-31T12:11:03.499Z"
   },
   {
    "duration": 31,
    "start_time": "2023-07-31T12:11:03.541Z"
   },
   {
    "duration": 365,
    "start_time": "2023-07-31T12:11:03.574Z"
   },
   {
    "duration": 360,
    "start_time": "2023-07-31T12:11:03.940Z"
   },
   {
    "duration": 259,
    "start_time": "2023-07-31T12:11:04.301Z"
   },
   {
    "duration": 377,
    "start_time": "2023-07-31T12:11:04.561Z"
   },
   {
    "duration": 287,
    "start_time": "2023-07-31T12:11:04.940Z"
   },
   {
    "duration": 362,
    "start_time": "2023-07-31T12:11:05.229Z"
   },
   {
    "duration": 18,
    "start_time": "2023-07-31T12:11:05.594Z"
   },
   {
    "duration": 174,
    "start_time": "2023-07-31T12:11:05.614Z"
   },
   {
    "duration": 11,
    "start_time": "2023-07-31T12:11:05.789Z"
   },
   {
    "duration": 6,
    "start_time": "2023-07-31T12:11:05.805Z"
   },
   {
    "duration": 232,
    "start_time": "2023-07-31T12:11:05.812Z"
   },
   {
    "duration": 203,
    "start_time": "2023-07-31T12:11:06.045Z"
   },
   {
    "duration": 5,
    "start_time": "2023-07-31T12:11:06.250Z"
   },
   {
    "duration": 44,
    "start_time": "2023-07-31T12:11:06.256Z"
   },
   {
    "duration": 343,
    "start_time": "2023-07-31T12:11:06.302Z"
   },
   {
    "duration": 213,
    "start_time": "2023-07-31T12:11:06.646Z"
   },
   {
    "duration": 26,
    "start_time": "2023-07-31T12:11:06.861Z"
   },
   {
    "duration": 32,
    "start_time": "2023-07-31T12:11:06.889Z"
   },
   {
    "duration": 37,
    "start_time": "2023-07-31T12:11:06.923Z"
   },
   {
    "duration": 37,
    "start_time": "2023-07-31T12:11:06.961Z"
   },
   {
    "duration": 1369,
    "start_time": "2023-07-31T17:55:24.343Z"
   },
   {
    "duration": 189,
    "start_time": "2023-07-31T17:55:25.714Z"
   },
   {
    "duration": 14,
    "start_time": "2023-07-31T17:55:25.905Z"
   },
   {
    "duration": 16,
    "start_time": "2023-07-31T17:55:25.921Z"
   },
   {
    "duration": 6,
    "start_time": "2023-07-31T17:55:25.939Z"
   },
   {
    "duration": 16,
    "start_time": "2023-07-31T17:55:25.947Z"
   },
   {
    "duration": 28,
    "start_time": "2023-07-31T17:55:25.964Z"
   },
   {
    "duration": 12,
    "start_time": "2023-07-31T17:55:25.993Z"
   },
   {
    "duration": 7,
    "start_time": "2023-07-31T17:55:26.006Z"
   },
   {
    "duration": 13,
    "start_time": "2023-07-31T17:55:26.014Z"
   },
   {
    "duration": 15,
    "start_time": "2023-07-31T17:55:26.028Z"
   },
   {
    "duration": 12,
    "start_time": "2023-07-31T17:55:26.045Z"
   },
   {
    "duration": 14,
    "start_time": "2023-07-31T17:55:26.059Z"
   },
   {
    "duration": 23,
    "start_time": "2023-07-31T17:55:26.075Z"
   },
   {
    "duration": 9,
    "start_time": "2023-07-31T17:55:26.100Z"
   },
   {
    "duration": 10,
    "start_time": "2023-07-31T17:55:26.111Z"
   },
   {
    "duration": 16,
    "start_time": "2023-07-31T17:55:26.122Z"
   },
   {
    "duration": 14,
    "start_time": "2023-07-31T17:55:26.140Z"
   },
   {
    "duration": 17,
    "start_time": "2023-07-31T17:55:26.156Z"
   },
   {
    "duration": 298,
    "start_time": "2023-07-31T17:55:26.175Z"
   },
   {
    "duration": 315,
    "start_time": "2023-07-31T17:55:26.475Z"
   },
   {
    "duration": 229,
    "start_time": "2023-07-31T17:55:26.791Z"
   },
   {
    "duration": 347,
    "start_time": "2023-07-31T17:55:27.021Z"
   },
   {
    "duration": 240,
    "start_time": "2023-07-31T17:55:27.370Z"
   },
   {
    "duration": 329,
    "start_time": "2023-07-31T17:55:27.612Z"
   },
   {
    "duration": 14,
    "start_time": "2023-07-31T17:55:27.943Z"
   },
   {
    "duration": 167,
    "start_time": "2023-07-31T17:55:27.959Z"
   },
   {
    "duration": 6,
    "start_time": "2023-07-31T17:55:28.128Z"
   },
   {
    "duration": 12,
    "start_time": "2023-07-31T17:55:28.136Z"
   },
   {
    "duration": 179,
    "start_time": "2023-07-31T17:55:28.150Z"
   },
   {
    "duration": 178,
    "start_time": "2023-07-31T17:55:28.331Z"
   },
   {
    "duration": 6,
    "start_time": "2023-07-31T17:55:28.511Z"
   },
   {
    "duration": 9,
    "start_time": "2023-07-31T17:55:28.519Z"
   },
   {
    "duration": 333,
    "start_time": "2023-07-31T17:55:28.530Z"
   },
   {
    "duration": 160,
    "start_time": "2023-07-31T17:55:28.865Z"
   },
   {
    "duration": 14,
    "start_time": "2023-07-31T17:55:29.026Z"
   },
   {
    "duration": 10,
    "start_time": "2023-07-31T17:55:29.041Z"
   },
   {
    "duration": 54,
    "start_time": "2023-07-31T17:55:29.053Z"
   },
   {
    "duration": 15,
    "start_time": "2023-07-31T17:55:29.109Z"
   },
   {
    "duration": 11,
    "start_time": "2023-07-31T18:11:19.871Z"
   },
   {
    "duration": 104,
    "start_time": "2023-07-31T18:11:41.316Z"
   },
   {
    "duration": 15,
    "start_time": "2023-07-31T18:18:00.305Z"
   },
   {
    "duration": 9,
    "start_time": "2023-07-31T18:18:05.700Z"
   },
   {
    "duration": 6,
    "start_time": "2023-07-31T18:20:49.246Z"
   },
   {
    "duration": 7,
    "start_time": "2023-07-31T18:21:28.501Z"
   },
   {
    "duration": 12,
    "start_time": "2023-07-31T18:21:53.945Z"
   },
   {
    "duration": 274,
    "start_time": "2023-07-31T18:22:23.690Z"
   },
   {
    "duration": 205,
    "start_time": "2023-07-31T18:23:42.049Z"
   },
   {
    "duration": 1175,
    "start_time": "2023-07-31T18:23:58.609Z"
   },
   {
    "duration": 76,
    "start_time": "2023-07-31T18:23:59.786Z"
   },
   {
    "duration": 13,
    "start_time": "2023-07-31T18:23:59.864Z"
   },
   {
    "duration": 33,
    "start_time": "2023-07-31T18:23:59.880Z"
   },
   {
    "duration": 27,
    "start_time": "2023-07-31T18:23:59.915Z"
   },
   {
    "duration": 38,
    "start_time": "2023-07-31T18:23:59.944Z"
   },
   {
    "duration": 32,
    "start_time": "2023-07-31T18:23:59.984Z"
   },
   {
    "duration": 85,
    "start_time": "2023-07-31T18:24:00.018Z"
   },
   {
    "duration": 88,
    "start_time": "2023-07-31T18:24:00.105Z"
   },
   {
    "duration": 47,
    "start_time": "2023-07-31T18:24:00.195Z"
   },
   {
    "duration": 46,
    "start_time": "2023-07-31T18:24:00.244Z"
   },
   {
    "duration": 121,
    "start_time": "2023-07-31T18:24:00.292Z"
   },
   {
    "duration": 59,
    "start_time": "2023-07-31T18:24:00.415Z"
   },
   {
    "duration": 109,
    "start_time": "2023-07-31T18:24:00.475Z"
   },
   {
    "duration": 66,
    "start_time": "2023-07-31T18:24:00.586Z"
   },
   {
    "duration": 47,
    "start_time": "2023-07-31T18:24:00.654Z"
   },
   {
    "duration": 48,
    "start_time": "2023-07-31T18:24:00.702Z"
   },
   {
    "duration": 42,
    "start_time": "2023-07-31T18:24:00.752Z"
   },
   {
    "duration": 91,
    "start_time": "2023-07-31T18:24:00.796Z"
   },
   {
    "duration": 142,
    "start_time": "2023-07-31T18:24:00.889Z"
   },
   {
    "duration": 126,
    "start_time": "2023-07-31T18:24:01.032Z"
   },
   {
    "duration": 348,
    "start_time": "2023-07-31T18:24:01.160Z"
   },
   {
    "duration": 309,
    "start_time": "2023-07-31T18:24:01.510Z"
   },
   {
    "duration": 227,
    "start_time": "2023-07-31T18:24:01.821Z"
   },
   {
    "duration": 309,
    "start_time": "2023-07-31T18:24:02.050Z"
   },
   {
    "duration": 234,
    "start_time": "2023-07-31T18:24:02.361Z"
   },
   {
    "duration": 338,
    "start_time": "2023-07-31T18:24:02.597Z"
   },
   {
    "duration": 12,
    "start_time": "2023-07-31T18:24:02.938Z"
   },
   {
    "duration": 176,
    "start_time": "2023-07-31T18:24:02.952Z"
   },
   {
    "duration": 5,
    "start_time": "2023-07-31T18:24:03.130Z"
   },
   {
    "duration": 26,
    "start_time": "2023-07-31T18:24:03.136Z"
   },
   {
    "duration": 212,
    "start_time": "2023-07-31T18:24:03.163Z"
   },
   {
    "duration": 158,
    "start_time": "2023-07-31T18:24:03.377Z"
   },
   {
    "duration": 6,
    "start_time": "2023-07-31T18:24:03.536Z"
   },
   {
    "duration": 9,
    "start_time": "2023-07-31T18:24:03.543Z"
   },
   {
    "duration": 318,
    "start_time": "2023-07-31T18:24:03.553Z"
   },
   {
    "duration": 154,
    "start_time": "2023-07-31T18:24:03.873Z"
   },
   {
    "duration": 12,
    "start_time": "2023-07-31T18:24:04.028Z"
   },
   {
    "duration": 36,
    "start_time": "2023-07-31T18:24:04.041Z"
   },
   {
    "duration": 60,
    "start_time": "2023-07-31T18:24:04.079Z"
   },
   {
    "duration": 15,
    "start_time": "2023-07-31T18:24:04.140Z"
   },
   {
    "duration": 1281,
    "start_time": "2023-07-31T18:29:19.561Z"
   },
   {
    "duration": 76,
    "start_time": "2023-07-31T18:29:20.844Z"
   },
   {
    "duration": 12,
    "start_time": "2023-07-31T18:29:20.922Z"
   },
   {
    "duration": 23,
    "start_time": "2023-07-31T18:29:20.935Z"
   },
   {
    "duration": 29,
    "start_time": "2023-07-31T18:29:20.960Z"
   },
   {
    "duration": 15,
    "start_time": "2023-07-31T18:29:20.991Z"
   },
   {
    "duration": 20,
    "start_time": "2023-07-31T18:29:21.008Z"
   },
   {
    "duration": 7,
    "start_time": "2023-07-31T18:29:21.029Z"
   },
   {
    "duration": 28,
    "start_time": "2023-07-31T18:29:21.037Z"
   },
   {
    "duration": 29,
    "start_time": "2023-07-31T18:29:21.066Z"
   },
   {
    "duration": 10,
    "start_time": "2023-07-31T18:29:21.097Z"
   },
   {
    "duration": 14,
    "start_time": "2023-07-31T18:29:21.108Z"
   },
   {
    "duration": 19,
    "start_time": "2023-07-31T18:29:21.123Z"
   },
   {
    "duration": 24,
    "start_time": "2023-07-31T18:29:21.145Z"
   },
   {
    "duration": 19,
    "start_time": "2023-07-31T18:29:21.170Z"
   },
   {
    "duration": 10,
    "start_time": "2023-07-31T18:29:21.191Z"
   },
   {
    "duration": 37,
    "start_time": "2023-07-31T18:29:21.203Z"
   },
   {
    "duration": 30,
    "start_time": "2023-07-31T18:29:21.242Z"
   },
   {
    "duration": 17,
    "start_time": "2023-07-31T18:29:21.274Z"
   },
   {
    "duration": 24,
    "start_time": "2023-07-31T18:29:21.292Z"
   },
   {
    "duration": 295,
    "start_time": "2023-07-31T18:29:21.317Z"
   },
   {
    "duration": 305,
    "start_time": "2023-07-31T18:29:21.614Z"
   },
   {
    "duration": 227,
    "start_time": "2023-07-31T18:29:21.921Z"
   },
   {
    "duration": 317,
    "start_time": "2023-07-31T18:29:22.151Z"
   },
   {
    "duration": 246,
    "start_time": "2023-07-31T18:29:22.470Z"
   },
   {
    "duration": 326,
    "start_time": "2023-07-31T18:29:22.718Z"
   },
   {
    "duration": 12,
    "start_time": "2023-07-31T18:29:23.046Z"
   },
   {
    "duration": 172,
    "start_time": "2023-07-31T18:29:23.059Z"
   },
   {
    "duration": 4,
    "start_time": "2023-07-31T18:29:23.233Z"
   },
   {
    "duration": 16,
    "start_time": "2023-07-31T18:29:23.239Z"
   },
   {
    "duration": 197,
    "start_time": "2023-07-31T18:29:23.257Z"
   },
   {
    "duration": 158,
    "start_time": "2023-07-31T18:29:23.456Z"
   },
   {
    "duration": 4,
    "start_time": "2023-07-31T18:29:23.616Z"
   },
   {
    "duration": 22,
    "start_time": "2023-07-31T18:29:23.622Z"
   },
   {
    "duration": 299,
    "start_time": "2023-07-31T18:29:23.646Z"
   },
   {
    "duration": 161,
    "start_time": "2023-07-31T18:29:23.947Z"
   },
   {
    "duration": 12,
    "start_time": "2023-07-31T18:29:24.110Z"
   },
   {
    "duration": 34,
    "start_time": "2023-07-31T18:29:24.123Z"
   },
   {
    "duration": 49,
    "start_time": "2023-07-31T18:29:24.159Z"
   },
   {
    "duration": 29,
    "start_time": "2023-07-31T18:29:24.210Z"
   },
   {
    "duration": 1239,
    "start_time": "2024-08-05T14:46:37.690Z"
   },
   {
    "duration": 235,
    "start_time": "2024-08-05T14:46:38.937Z"
   },
   {
    "duration": 12,
    "start_time": "2024-08-05T14:46:39.174Z"
   },
   {
    "duration": 17,
    "start_time": "2024-08-05T14:46:39.188Z"
   },
   {
    "duration": 19,
    "start_time": "2024-08-05T14:46:39.208Z"
   },
   {
    "duration": 25,
    "start_time": "2024-08-05T14:46:39.228Z"
   },
   {
    "duration": 17,
    "start_time": "2024-08-05T14:46:39.255Z"
   },
   {
    "duration": 17,
    "start_time": "2024-08-05T14:46:39.274Z"
   },
   {
    "duration": 9,
    "start_time": "2024-08-05T14:46:39.293Z"
   },
   {
    "duration": 50,
    "start_time": "2024-08-05T14:46:39.305Z"
   },
   {
    "duration": 63,
    "start_time": "2024-08-05T14:46:39.357Z"
   },
   {
    "duration": 64,
    "start_time": "2024-08-05T14:46:39.421Z"
   },
   {
    "duration": 9,
    "start_time": "2024-08-05T14:46:39.486Z"
   },
   {
    "duration": 13,
    "start_time": "2024-08-05T14:46:39.496Z"
   },
   {
    "duration": 6,
    "start_time": "2024-08-05T14:46:39.510Z"
   },
   {
    "duration": 11,
    "start_time": "2024-08-05T14:46:39.517Z"
   },
   {
    "duration": 6,
    "start_time": "2024-08-05T14:46:39.531Z"
   },
   {
    "duration": 29,
    "start_time": "2024-08-05T14:46:39.538Z"
   },
   {
    "duration": 25,
    "start_time": "2024-08-05T14:46:39.568Z"
   },
   {
    "duration": 10,
    "start_time": "2024-08-05T14:46:39.595Z"
   },
   {
    "duration": 304,
    "start_time": "2024-08-05T14:46:39.607Z"
   },
   {
    "duration": 331,
    "start_time": "2024-08-05T14:46:39.913Z"
   },
   {
    "duration": 252,
    "start_time": "2024-08-05T14:46:40.255Z"
   },
   {
    "duration": 385,
    "start_time": "2024-08-05T14:46:40.508Z"
   },
   {
    "duration": 279,
    "start_time": "2024-08-05T14:46:40.895Z"
   },
   {
    "duration": 346,
    "start_time": "2024-08-05T14:46:41.175Z"
   },
   {
    "duration": 38,
    "start_time": "2024-08-05T14:46:41.523Z"
   },
   {
    "duration": 149,
    "start_time": "2024-08-05T14:46:41.564Z"
   },
   {
    "duration": 5,
    "start_time": "2024-08-05T14:46:41.714Z"
   },
   {
    "duration": 19,
    "start_time": "2024-08-05T14:46:41.721Z"
   },
   {
    "duration": 182,
    "start_time": "2024-08-05T14:46:41.741Z"
   },
   {
    "duration": 176,
    "start_time": "2024-08-05T14:46:41.924Z"
   },
   {
    "duration": 5,
    "start_time": "2024-08-05T14:46:42.101Z"
   },
   {
    "duration": 10,
    "start_time": "2024-08-05T14:46:42.108Z"
   },
   {
    "duration": 324,
    "start_time": "2024-08-05T14:46:42.119Z"
   },
   {
    "duration": 255,
    "start_time": "2024-08-05T14:46:42.444Z"
   },
   {
    "duration": 18,
    "start_time": "2024-08-05T14:46:42.701Z"
   },
   {
    "duration": 14,
    "start_time": "2024-08-05T14:46:42.721Z"
   },
   {
    "duration": 53,
    "start_time": "2024-08-05T14:46:42.750Z"
   },
   {
    "duration": 18,
    "start_time": "2024-08-05T14:46:42.805Z"
   }
  ],
  "kernelspec": {
   "display_name": "Python 3 (ipykernel)",
   "language": "python",
   "name": "python3"
  },
  "language_info": {
   "codemirror_mode": {
    "name": "ipython",
    "version": 3
   },
   "file_extension": ".py",
   "mimetype": "text/x-python",
   "name": "python",
   "nbconvert_exporter": "python",
   "pygments_lexer": "ipython3",
   "version": "3.9.5"
  },
  "toc": {
   "base_numbering": 1,
   "nav_menu": {},
   "number_sections": true,
   "sideBar": true,
   "skip_h1_title": true,
   "title_cell": "Table of Contents",
   "title_sidebar": "Contents",
   "toc_cell": false,
   "toc_position": {
    "height": "calc(100% - 180px)",
    "left": "10px",
    "top": "150px",
    "width": "450.764px"
   },
   "toc_section_display": true,
   "toc_window_display": false
  }
 },
 "nbformat": 4,
 "nbformat_minor": 2
}
